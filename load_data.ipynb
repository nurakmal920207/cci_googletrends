{
 "cells": [
  {
   "cell_type": "code",
   "execution_count": 1,
   "id": "a1bb83f7-9414-41ca-8e77-01ae05eec804",
   "metadata": {},
   "outputs": [],
   "source": [
    "# import required module\n",
    "import pandas as pd\n",
    "import os"
   ]
  },
  {
   "cell_type": "code",
   "execution_count": 5,
   "id": "4ede8f64-9969-4637-8ce2-b7540df42d86",
   "metadata": {},
   "outputs": [],
   "source": [
    "# assign directory\n",
    "directory = 'Countries'\n",
    "dictionary = {}\n",
    "# iterate over files in the directory\n",
    "for filename in os.listdir(directory):\n",
    "    f = os.path.join(directory, filename)\n",
    "    df = filename.rsplit('.',1)[0]\n",
    "    dictionary[df] = pd.read_excel(f)\n",
    "    new_header = dictionary[df].iloc[0] #grab the first row for the header\n",
    "    dictionary[df] = dictionary[df][1:] #take the data less the header row\n",
    "    dictionary[df].columns = new_header #set the header row as the df header"
   ]
  },
  {
   "cell_type": "code",
   "execution_count": 6,
   "id": "ccd94cf9-f520-4874-81b1-5dafc9c5b0c4",
   "metadata": {},
   "outputs": [],
   "source": [
    "import pickle\n",
    "\n",
    "with open('dictionary.pickle', 'wb') as handle:\n",
    "    pickle.dump(dictionary, handle, protocol=pickle.HIGHEST_PROTOCOL)"
   ]
  },
  {
   "cell_type": "code",
   "execution_count": null,
   "id": "924b5a69",
   "metadata": {},
   "outputs": [],
   "source": []
  }
 ],
 "metadata": {
  "kernelspec": {
   "display_name": "Python 3 (ipykernel)",
   "language": "python",
   "name": "python3"
  },
  "language_info": {
   "codemirror_mode": {
    "name": "ipython",
    "version": 3
   },
   "file_extension": ".py",
   "mimetype": "text/x-python",
   "name": "python",
   "nbconvert_exporter": "python",
   "pygments_lexer": "ipython3",
   "version": "3.10.5"
  }
 },
 "nbformat": 4,
 "nbformat_minor": 5
}
