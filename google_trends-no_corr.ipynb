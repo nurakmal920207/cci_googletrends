{
 "cells": [
  {
   "cell_type": "code",
   "execution_count": 1,
   "id": "8339d134",
   "metadata": {},
   "outputs": [],
   "source": [
    "import pandas as pd\n",
    "import pickle\n",
    "import plotly.express as px"
   ]
  },
  {
   "cell_type": "code",
   "execution_count": 2,
   "id": "d0e497d1",
   "metadata": {},
   "outputs": [],
   "source": [
    "with open('dictionary.pickle', 'rb') as handle:\n",
    "    dict_ = pickle.load(handle)"
   ]
  },
  {
   "cell_type": "code",
   "execution_count": 3,
   "id": "3de6447d",
   "metadata": {},
   "outputs": [
    {
     "data": {
      "text/html": [
       "<div>\n",
       "<style scoped>\n",
       "    .dataframe tbody tr th:only-of-type {\n",
       "        vertical-align: middle;\n",
       "    }\n",
       "\n",
       "    .dataframe tbody tr th {\n",
       "        vertical-align: top;\n",
       "    }\n",
       "\n",
       "    .dataframe thead th {\n",
       "        text-align: right;\n",
       "    }\n",
       "</style>\n",
       "<table border=\"1\" class=\"dataframe\">\n",
       "  <thead>\n",
       "    <tr style=\"text-align: right;\">\n",
       "      <th></th>\n",
       "      <th>Date</th>\n",
       "      <th>Celebrities &amp; Entertainment News</th>\n",
       "      <th>Comics &amp; Animation</th>\n",
       "      <th>Entertainment Industry</th>\n",
       "      <th>Events &amp; Listings</th>\n",
       "      <th>Fun &amp; Trivia</th>\n",
       "      <th>Humor</th>\n",
       "      <th>Movies</th>\n",
       "      <th>Music &amp; Audio</th>\n",
       "      <th>Offbeat</th>\n",
       "      <th>...</th>\n",
       "      <th>Bus &amp; Rail</th>\n",
       "      <th>Car Rental &amp; Taxi Services</th>\n",
       "      <th>Carpooling &amp; Ridesharing</th>\n",
       "      <th>Cruises &amp; Charters</th>\n",
       "      <th>Hotels &amp; Accommodations</th>\n",
       "      <th>Luggage &amp; Travel Accessories</th>\n",
       "      <th>Specialty Travel</th>\n",
       "      <th>Tourist Destinations</th>\n",
       "      <th>Travel Agencies &amp; Services</th>\n",
       "      <th>Travel Guides &amp; Travelogues</th>\n",
       "    </tr>\n",
       "  </thead>\n",
       "  <tbody>\n",
       "    <tr>\n",
       "      <th>1</th>\n",
       "      <td>2005-01-01 00:00:00</td>\n",
       "      <td>0</td>\n",
       "      <td>0</td>\n",
       "      <td>0</td>\n",
       "      <td>0</td>\n",
       "      <td>0</td>\n",
       "      <td>0</td>\n",
       "      <td>12</td>\n",
       "      <td>5</td>\n",
       "      <td>0</td>\n",
       "      <td>...</td>\n",
       "      <td>0</td>\n",
       "      <td>21</td>\n",
       "      <td>0</td>\n",
       "      <td>0</td>\n",
       "      <td>38</td>\n",
       "      <td>0</td>\n",
       "      <td>0</td>\n",
       "      <td>26</td>\n",
       "      <td>100</td>\n",
       "      <td>0</td>\n",
       "    </tr>\n",
       "    <tr>\n",
       "      <th>2</th>\n",
       "      <td>2005-02-01 00:00:00</td>\n",
       "      <td>61</td>\n",
       "      <td>0</td>\n",
       "      <td>0</td>\n",
       "      <td>98</td>\n",
       "      <td>0</td>\n",
       "      <td>27</td>\n",
       "      <td>9</td>\n",
       "      <td>11</td>\n",
       "      <td>11</td>\n",
       "      <td>...</td>\n",
       "      <td>100</td>\n",
       "      <td>29</td>\n",
       "      <td>0</td>\n",
       "      <td>0</td>\n",
       "      <td>0</td>\n",
       "      <td>0</td>\n",
       "      <td>0</td>\n",
       "      <td>23</td>\n",
       "      <td>0</td>\n",
       "      <td>0</td>\n",
       "    </tr>\n",
       "    <tr>\n",
       "      <th>3</th>\n",
       "      <td>2005-03-01 00:00:00</td>\n",
       "      <td>56</td>\n",
       "      <td>0</td>\n",
       "      <td>47</td>\n",
       "      <td>100</td>\n",
       "      <td>0</td>\n",
       "      <td>23</td>\n",
       "      <td>7</td>\n",
       "      <td>11</td>\n",
       "      <td>8</td>\n",
       "      <td>...</td>\n",
       "      <td>0</td>\n",
       "      <td>0</td>\n",
       "      <td>0</td>\n",
       "      <td>43</td>\n",
       "      <td>52</td>\n",
       "      <td>0</td>\n",
       "      <td>77</td>\n",
       "      <td>51</td>\n",
       "      <td>0</td>\n",
       "      <td>0</td>\n",
       "    </tr>\n",
       "    <tr>\n",
       "      <th>4</th>\n",
       "      <td>2005-04-01 00:00:00</td>\n",
       "      <td>40</td>\n",
       "      <td>46</td>\n",
       "      <td>0</td>\n",
       "      <td>0</td>\n",
       "      <td>10</td>\n",
       "      <td>25</td>\n",
       "      <td>8</td>\n",
       "      <td>11</td>\n",
       "      <td>7</td>\n",
       "      <td>...</td>\n",
       "      <td>0</td>\n",
       "      <td>0</td>\n",
       "      <td>0</td>\n",
       "      <td>100</td>\n",
       "      <td>66</td>\n",
       "      <td>100</td>\n",
       "      <td>100</td>\n",
       "      <td>0</td>\n",
       "      <td>0</td>\n",
       "      <td>0</td>\n",
       "    </tr>\n",
       "    <tr>\n",
       "      <th>5</th>\n",
       "      <td>2005-05-01 00:00:00</td>\n",
       "      <td>27</td>\n",
       "      <td>0</td>\n",
       "      <td>90</td>\n",
       "      <td>32</td>\n",
       "      <td>0</td>\n",
       "      <td>0</td>\n",
       "      <td>13</td>\n",
       "      <td>9</td>\n",
       "      <td>4</td>\n",
       "      <td>...</td>\n",
       "      <td>0</td>\n",
       "      <td>0</td>\n",
       "      <td>0</td>\n",
       "      <td>0</td>\n",
       "      <td>22</td>\n",
       "      <td>0</td>\n",
       "      <td>0</td>\n",
       "      <td>37</td>\n",
       "      <td>0</td>\n",
       "      <td>0</td>\n",
       "    </tr>\n",
       "  </tbody>\n",
       "</table>\n",
       "<p>5 rows × 289 columns</p>\n",
       "</div>"
      ],
      "text/plain": [
       "0                 Date Celebrities & Entertainment News Comics & Animation  \\\n",
       "1  2005-01-01 00:00:00                                0                  0   \n",
       "2  2005-02-01 00:00:00                               61                  0   \n",
       "3  2005-03-01 00:00:00                               56                  0   \n",
       "4  2005-04-01 00:00:00                               40                 46   \n",
       "5  2005-05-01 00:00:00                               27                  0   \n",
       "\n",
       "0 Entertainment Industry Events & Listings Fun & Trivia Humor Movies  \\\n",
       "1                      0                 0            0     0     12   \n",
       "2                      0                98            0    27      9   \n",
       "3                     47               100            0    23      7   \n",
       "4                      0                 0           10    25      8   \n",
       "5                     90                32            0     0     13   \n",
       "\n",
       "0 Music & Audio Offbeat  ... Bus & Rail Car Rental & Taxi Services  \\\n",
       "1             5       0  ...          0                         21   \n",
       "2            11      11  ...        100                         29   \n",
       "3            11       8  ...          0                          0   \n",
       "4            11       7  ...          0                          0   \n",
       "5             9       4  ...          0                          0   \n",
       "\n",
       "0 Carpooling & Ridesharing Cruises & Charters Hotels & Accommodations  \\\n",
       "1                        0                  0                      38   \n",
       "2                        0                  0                       0   \n",
       "3                        0                 43                      52   \n",
       "4                        0                100                      66   \n",
       "5                        0                  0                      22   \n",
       "\n",
       "0 Luggage & Travel Accessories Specialty Travel Tourist Destinations  \\\n",
       "1                            0                0                   26   \n",
       "2                            0                0                   23   \n",
       "3                            0               77                   51   \n",
       "4                          100              100                    0   \n",
       "5                            0                0                   37   \n",
       "\n",
       "0 Travel Agencies & Services Travel Guides & Travelogues  \n",
       "1                        100                           0  \n",
       "2                          0                           0  \n",
       "3                          0                           0  \n",
       "4                          0                           0  \n",
       "5                          0                           0  \n",
       "\n",
       "[5 rows x 289 columns]"
      ]
     },
     "execution_count": 3,
     "metadata": {},
     "output_type": "execute_result"
    }
   ],
   "source": [
    "dict_['Afghanistan'].head()"
   ]
  },
  {
   "cell_type": "code",
   "execution_count": 4,
   "id": "e1fe06b8",
   "metadata": {},
   "outputs": [],
   "source": [
    "df_weight = pd.read_csv('weight.csv', index_col = 'Category')"
   ]
  },
  {
   "cell_type": "code",
   "execution_count": 5,
   "id": "c077bba8",
   "metadata": {},
   "outputs": [],
   "source": [
    "df_weight = df_weight.transpose()"
   ]
  },
  {
   "cell_type": "code",
   "execution_count": 6,
   "id": "c46f8d1d",
   "metadata": {},
   "outputs": [],
   "source": [
    "weight_columns = df_weight.columns.tolist()\n",
    "weight_columns.insert(0,'Date')"
   ]
  },
  {
   "cell_type": "code",
   "execution_count": 7,
   "id": "9c259a1d",
   "metadata": {},
   "outputs": [],
   "source": [
    "df_summary = pd.DataFrame(index = [date.strftime('%Y-%m-%d') for date in dict_['Afghanistan']['Date']])"
   ]
  },
  {
   "cell_type": "code",
   "execution_count": 8,
   "id": "4bcb1040",
   "metadata": {
    "scrolled": true
   },
   "outputs": [],
   "source": [
    "#multiply score with weights for each country\n",
    "for country in dict_.keys():\n",
    "    dict_[country] = dict_[country][weight_columns]\n",
    "    dict_[country]['Date'] = dict_[country]['Date'].map(lambda t: t.strftime('%Y-%m-%d'))\n",
    "    dict_[country].replace('<1', 1, inplace = True)\n",
    "    for category in df_weight.columns.tolist():\n",
    "        dict_[country].loc[:,category] = dict_[country].loc[:,category] * df_weight[category].values\n",
    "    column_list = dict_[country].columns.tolist()\n",
    "    column_list.remove('Date')\n",
    "    dict_[country]['Total'] = dict_[country][column_list].astype(float).sum(axis=1, numeric_only=True)\n",
    "    dict_[country]['Moving Average'] = dict_[country]['Total'].rolling(60, closed='left').mean()\n",
    "    dict_[country]['Indexed Against Average'] = (dict_[country]['Total'].divide(dict_[country]['Moving Average'])) * 100\n",
    "    dict_[country]['50% Downweighted'] = (dict_[country]['Indexed Against Average'] - 100) * 0.5 + 100\n",
    "    dict_[country]['Capped 130 - 70'] = dict_[country]['50% Downweighted'].clip(lower=70, upper=130)\n",
    "    df_temp = dict_[country].copy()\n",
    "    df_temp = df_temp[['Date','Capped 130 - 70']]\n",
    "    df_temp.rename(columns = {'Capped 130 - 70':country}, inplace = True)\n",
    "    df_temp.set_index('Date', inplace = True)\n",
    "    df_summary = pd.merge(df_summary,df_temp,left_index=True, right_index=True)\n",
    "    #dict_[country].to_excel(f'{country}_calculated.xlsx')"
   ]
  },
  {
   "cell_type": "code",
   "execution_count": 9,
   "id": "03f77097",
   "metadata": {
    "scrolled": true
   },
   "outputs": [
    {
     "data": {
      "text/html": [
       "<div>\n",
       "<style scoped>\n",
       "    .dataframe tbody tr th:only-of-type {\n",
       "        vertical-align: middle;\n",
       "    }\n",
       "\n",
       "    .dataframe tbody tr th {\n",
       "        vertical-align: top;\n",
       "    }\n",
       "\n",
       "    .dataframe thead th {\n",
       "        text-align: right;\n",
       "    }\n",
       "</style>\n",
       "<table border=\"1\" class=\"dataframe\">\n",
       "  <thead>\n",
       "    <tr style=\"text-align: right;\">\n",
       "      <th></th>\n",
       "      <th>Afghanistan</th>\n",
       "      <th>Albania</th>\n",
       "      <th>Algeria</th>\n",
       "      <th>American Samoa</th>\n",
       "      <th>Andorra</th>\n",
       "      <th>Angola</th>\n",
       "      <th>Anguilla</th>\n",
       "      <th>Antarctica</th>\n",
       "      <th>Antigua &amp; Barbuda</th>\n",
       "      <th>Argentina</th>\n",
       "      <th>...</th>\n",
       "      <th>Vanuatu</th>\n",
       "      <th>Vatican City</th>\n",
       "      <th>Venezuela</th>\n",
       "      <th>Vietnam</th>\n",
       "      <th>Wallis &amp; Futuna</th>\n",
       "      <th>Western Sahara</th>\n",
       "      <th>Yemen</th>\n",
       "      <th>Zambia</th>\n",
       "      <th>Zimbabwe</th>\n",
       "      <th>Åland Islands</th>\n",
       "    </tr>\n",
       "  </thead>\n",
       "  <tbody>\n",
       "    <tr>\n",
       "      <th>2005-01-01</th>\n",
       "      <td>NaN</td>\n",
       "      <td>NaN</td>\n",
       "      <td>NaN</td>\n",
       "      <td>NaN</td>\n",
       "      <td>NaN</td>\n",
       "      <td>NaN</td>\n",
       "      <td>NaN</td>\n",
       "      <td>NaN</td>\n",
       "      <td>NaN</td>\n",
       "      <td>NaN</td>\n",
       "      <td>...</td>\n",
       "      <td>NaN</td>\n",
       "      <td>NaN</td>\n",
       "      <td>NaN</td>\n",
       "      <td>NaN</td>\n",
       "      <td>NaN</td>\n",
       "      <td>NaN</td>\n",
       "      <td>NaN</td>\n",
       "      <td>NaN</td>\n",
       "      <td>NaN</td>\n",
       "      <td>NaN</td>\n",
       "    </tr>\n",
       "    <tr>\n",
       "      <th>2005-02-01</th>\n",
       "      <td>NaN</td>\n",
       "      <td>NaN</td>\n",
       "      <td>NaN</td>\n",
       "      <td>NaN</td>\n",
       "      <td>NaN</td>\n",
       "      <td>NaN</td>\n",
       "      <td>NaN</td>\n",
       "      <td>NaN</td>\n",
       "      <td>NaN</td>\n",
       "      <td>NaN</td>\n",
       "      <td>...</td>\n",
       "      <td>NaN</td>\n",
       "      <td>NaN</td>\n",
       "      <td>NaN</td>\n",
       "      <td>NaN</td>\n",
       "      <td>NaN</td>\n",
       "      <td>NaN</td>\n",
       "      <td>NaN</td>\n",
       "      <td>NaN</td>\n",
       "      <td>NaN</td>\n",
       "      <td>NaN</td>\n",
       "    </tr>\n",
       "    <tr>\n",
       "      <th>2005-03-01</th>\n",
       "      <td>NaN</td>\n",
       "      <td>NaN</td>\n",
       "      <td>NaN</td>\n",
       "      <td>NaN</td>\n",
       "      <td>NaN</td>\n",
       "      <td>NaN</td>\n",
       "      <td>NaN</td>\n",
       "      <td>NaN</td>\n",
       "      <td>NaN</td>\n",
       "      <td>NaN</td>\n",
       "      <td>...</td>\n",
       "      <td>NaN</td>\n",
       "      <td>NaN</td>\n",
       "      <td>NaN</td>\n",
       "      <td>NaN</td>\n",
       "      <td>NaN</td>\n",
       "      <td>NaN</td>\n",
       "      <td>NaN</td>\n",
       "      <td>NaN</td>\n",
       "      <td>NaN</td>\n",
       "      <td>NaN</td>\n",
       "    </tr>\n",
       "    <tr>\n",
       "      <th>2005-04-01</th>\n",
       "      <td>NaN</td>\n",
       "      <td>NaN</td>\n",
       "      <td>NaN</td>\n",
       "      <td>NaN</td>\n",
       "      <td>NaN</td>\n",
       "      <td>NaN</td>\n",
       "      <td>NaN</td>\n",
       "      <td>NaN</td>\n",
       "      <td>NaN</td>\n",
       "      <td>NaN</td>\n",
       "      <td>...</td>\n",
       "      <td>NaN</td>\n",
       "      <td>NaN</td>\n",
       "      <td>NaN</td>\n",
       "      <td>NaN</td>\n",
       "      <td>NaN</td>\n",
       "      <td>NaN</td>\n",
       "      <td>NaN</td>\n",
       "      <td>NaN</td>\n",
       "      <td>NaN</td>\n",
       "      <td>NaN</td>\n",
       "    </tr>\n",
       "    <tr>\n",
       "      <th>2005-05-01</th>\n",
       "      <td>NaN</td>\n",
       "      <td>NaN</td>\n",
       "      <td>NaN</td>\n",
       "      <td>NaN</td>\n",
       "      <td>NaN</td>\n",
       "      <td>NaN</td>\n",
       "      <td>NaN</td>\n",
       "      <td>NaN</td>\n",
       "      <td>NaN</td>\n",
       "      <td>NaN</td>\n",
       "      <td>...</td>\n",
       "      <td>NaN</td>\n",
       "      <td>NaN</td>\n",
       "      <td>NaN</td>\n",
       "      <td>NaN</td>\n",
       "      <td>NaN</td>\n",
       "      <td>NaN</td>\n",
       "      <td>NaN</td>\n",
       "      <td>NaN</td>\n",
       "      <td>NaN</td>\n",
       "      <td>NaN</td>\n",
       "    </tr>\n",
       "  </tbody>\n",
       "</table>\n",
       "<p>5 rows × 250 columns</p>\n",
       "</div>"
      ],
      "text/plain": [
       "            Afghanistan  Albania  Algeria  American Samoa  Andorra  Angola  \\\n",
       "2005-01-01          NaN      NaN      NaN             NaN      NaN     NaN   \n",
       "2005-02-01          NaN      NaN      NaN             NaN      NaN     NaN   \n",
       "2005-03-01          NaN      NaN      NaN             NaN      NaN     NaN   \n",
       "2005-04-01          NaN      NaN      NaN             NaN      NaN     NaN   \n",
       "2005-05-01          NaN      NaN      NaN             NaN      NaN     NaN   \n",
       "\n",
       "            Anguilla  Antarctica  Antigua & Barbuda  Argentina  ...  Vanuatu  \\\n",
       "2005-01-01       NaN         NaN                NaN        NaN  ...      NaN   \n",
       "2005-02-01       NaN         NaN                NaN        NaN  ...      NaN   \n",
       "2005-03-01       NaN         NaN                NaN        NaN  ...      NaN   \n",
       "2005-04-01       NaN         NaN                NaN        NaN  ...      NaN   \n",
       "2005-05-01       NaN         NaN                NaN        NaN  ...      NaN   \n",
       "\n",
       "            Vatican City  Venezuela  Vietnam  Wallis & Futuna  Western Sahara  \\\n",
       "2005-01-01           NaN        NaN      NaN              NaN             NaN   \n",
       "2005-02-01           NaN        NaN      NaN              NaN             NaN   \n",
       "2005-03-01           NaN        NaN      NaN              NaN             NaN   \n",
       "2005-04-01           NaN        NaN      NaN              NaN             NaN   \n",
       "2005-05-01           NaN        NaN      NaN              NaN             NaN   \n",
       "\n",
       "            Yemen  Zambia  Zimbabwe  Åland Islands  \n",
       "2005-01-01    NaN     NaN       NaN            NaN  \n",
       "2005-02-01    NaN     NaN       NaN            NaN  \n",
       "2005-03-01    NaN     NaN       NaN            NaN  \n",
       "2005-04-01    NaN     NaN       NaN            NaN  \n",
       "2005-05-01    NaN     NaN       NaN            NaN  \n",
       "\n",
       "[5 rows x 250 columns]"
      ]
     },
     "execution_count": 9,
     "metadata": {},
     "output_type": "execute_result"
    }
   ],
   "source": [
    "df_summary.head()"
   ]
  },
  {
   "cell_type": "code",
   "execution_count": 10,
   "id": "4e513074",
   "metadata": {},
   "outputs": [],
   "source": [
    "df_summary.dropna(how='all', inplace = True)"
   ]
  },
  {
   "cell_type": "code",
   "execution_count": 11,
   "id": "7800a40c",
   "metadata": {
    "scrolled": true
   },
   "outputs": [],
   "source": [
    "df_chart = df_summary.copy()\n",
    "df_chart.reset_index(inplace=True)\n",
    "df_chart.rename(columns = {'index':'Date'}, inplace = True)"
   ]
  },
  {
   "cell_type": "code",
   "execution_count": 12,
   "id": "198072df",
   "metadata": {},
   "outputs": [],
   "source": [
    "df_summary = df_summary.transpose()"
   ]
  },
  {
   "cell_type": "code",
   "execution_count": 13,
   "id": "d63d43c1",
   "metadata": {},
   "outputs": [],
   "source": [
    "df_summary.to_excel('summary.xlsx')"
   ]
  },
  {
   "cell_type": "code",
   "execution_count": 14,
   "id": "71042359-3de9-433d-bc56-25137f532c40",
   "metadata": {},
   "outputs": [],
   "source": [
    "df_chart = pd.melt(df_chart, id_vars = 'Date',value_vars = df_chart.columns.tolist(), var_name = 'Country', value_name = 'Score')"
   ]
  },
  {
   "cell_type": "code",
   "execution_count": 15,
   "id": "3a4fc887",
   "metadata": {},
   "outputs": [
    {
     "data": {
      "text/html": [
       "<div>\n",
       "<style scoped>\n",
       "    .dataframe tbody tr th:only-of-type {\n",
       "        vertical-align: middle;\n",
       "    }\n",
       "\n",
       "    .dataframe tbody tr th {\n",
       "        vertical-align: top;\n",
       "    }\n",
       "\n",
       "    .dataframe thead th {\n",
       "        text-align: right;\n",
       "    }\n",
       "</style>\n",
       "<table border=\"1\" class=\"dataframe\">\n",
       "  <thead>\n",
       "    <tr style=\"text-align: right;\">\n",
       "      <th></th>\n",
       "      <th>Date</th>\n",
       "      <th>Country</th>\n",
       "      <th>Score</th>\n",
       "    </tr>\n",
       "  </thead>\n",
       "  <tbody>\n",
       "    <tr>\n",
       "      <th>0</th>\n",
       "      <td>2010-01-01</td>\n",
       "      <td>Afghanistan</td>\n",
       "      <td>85.512499</td>\n",
       "    </tr>\n",
       "    <tr>\n",
       "      <th>1</th>\n",
       "      <td>2010-02-01</td>\n",
       "      <td>Afghanistan</td>\n",
       "      <td>96.919540</td>\n",
       "    </tr>\n",
       "    <tr>\n",
       "      <th>2</th>\n",
       "      <td>2010-03-01</td>\n",
       "      <td>Afghanistan</td>\n",
       "      <td>88.742046</td>\n",
       "    </tr>\n",
       "    <tr>\n",
       "      <th>3</th>\n",
       "      <td>2010-04-01</td>\n",
       "      <td>Afghanistan</td>\n",
       "      <td>90.759559</td>\n",
       "    </tr>\n",
       "    <tr>\n",
       "      <th>4</th>\n",
       "      <td>2010-05-01</td>\n",
       "      <td>Afghanistan</td>\n",
       "      <td>87.771602</td>\n",
       "    </tr>\n",
       "  </tbody>\n",
       "</table>\n",
       "</div>"
      ],
      "text/plain": [
       "         Date      Country      Score\n",
       "0  2010-01-01  Afghanistan  85.512499\n",
       "1  2010-02-01  Afghanistan  96.919540\n",
       "2  2010-03-01  Afghanistan  88.742046\n",
       "3  2010-04-01  Afghanistan  90.759559\n",
       "4  2010-05-01  Afghanistan  87.771602"
      ]
     },
     "execution_count": 15,
     "metadata": {},
     "output_type": "execute_result"
    }
   ],
   "source": [
    "df_chart.head()"
   ]
  },
  {
   "cell_type": "code",
   "execution_count": 23,
   "id": "6e09a660",
   "metadata": {},
   "outputs": [
    {
     "data": {
      "application/vnd.plotly.v1+json": {
       "config": {
        "plotlyServerURL": "https://plot.ly"
       },
       "data": [
        {
         "hovertemplate": "Country=Afghanistan<br>Date=%{x}<br>Score=%{y}<extra></extra>",
         "legendgroup": "Afghanistan",
         "line": {
          "color": "#636efa",
          "dash": "solid"
         },
         "marker": {
          "symbol": "circle"
         },
         "mode": "lines",
         "name": "Afghanistan",
         "orientation": "v",
         "showlegend": true,
         "type": "scatter",
         "x": [
          "2010-01-01",
          "2010-02-01",
          "2010-03-01",
          "2010-04-01",
          "2010-05-01",
          "2010-06-01",
          "2010-07-01",
          "2010-08-01",
          "2010-09-01",
          "2010-10-01",
          "2010-11-01",
          "2010-12-01",
          "2011-01-01",
          "2011-02-01",
          "2011-03-01",
          "2011-04-01",
          "2011-05-01",
          "2011-06-01",
          "2011-07-01",
          "2011-08-01",
          "2011-09-01",
          "2011-10-01",
          "2011-11-01",
          "2011-12-01",
          "2012-01-01",
          "2012-02-01",
          "2012-03-01",
          "2012-04-01",
          "2012-05-01",
          "2012-06-01",
          "2012-07-01",
          "2012-08-01",
          "2012-09-01",
          "2012-10-01",
          "2012-11-01",
          "2012-12-01",
          "2013-01-01",
          "2013-02-01",
          "2013-03-01",
          "2013-04-01",
          "2013-05-01",
          "2013-06-01",
          "2013-07-01",
          "2013-08-01",
          "2013-09-01",
          "2013-10-01",
          "2013-11-01",
          "2013-12-01",
          "2014-01-01",
          "2014-02-01",
          "2014-03-01",
          "2014-04-01",
          "2014-05-01",
          "2014-06-01",
          "2014-07-01",
          "2014-08-01",
          "2014-09-01",
          "2014-10-01",
          "2014-11-01",
          "2014-12-01",
          "2015-01-01",
          "2015-02-01",
          "2015-03-01",
          "2015-04-01",
          "2015-05-01",
          "2015-06-01",
          "2015-07-01",
          "2015-08-01",
          "2015-09-01",
          "2015-10-01",
          "2015-11-01",
          "2015-12-01",
          "2016-01-01",
          "2016-02-01",
          "2016-03-01",
          "2016-04-01",
          "2016-05-01",
          "2016-06-01",
          "2016-07-01",
          "2016-08-01",
          "2016-09-01",
          "2016-10-01",
          "2016-11-01",
          "2016-12-01",
          "2017-01-01",
          "2017-02-01",
          "2017-03-01",
          "2017-04-01",
          "2017-05-01",
          "2017-06-01",
          "2017-07-01",
          "2017-08-01",
          "2017-09-01",
          "2017-10-01",
          "2017-11-01",
          "2017-12-01",
          "2018-01-01",
          "2018-02-01",
          "2018-03-01",
          "2018-04-01",
          "2018-05-01",
          "2018-06-01",
          "2018-07-01",
          "2018-08-01",
          "2018-09-01",
          "2018-10-01",
          "2018-11-01",
          "2018-12-01",
          "2019-01-01",
          "2019-02-01",
          "2019-03-01",
          "2019-04-01",
          "2019-05-01",
          "2019-06-01",
          "2019-07-01",
          "2019-08-01",
          "2019-09-01",
          "2019-10-01",
          "2019-11-01",
          "2019-12-01",
          "2020-01-01",
          "2020-02-01",
          "2020-03-01",
          "2020-04-01",
          "2020-05-01",
          "2020-06-01",
          "2020-07-01",
          "2020-08-01",
          "2020-09-01",
          "2020-10-01",
          "2020-11-01",
          "2020-12-01",
          "2021-01-01",
          "2021-02-01",
          "2021-03-01",
          "2021-04-01",
          "2021-05-01",
          "2021-06-01",
          "2021-07-01",
          "2021-08-01",
          "2021-09-01",
          "2021-10-01",
          "2021-11-01",
          "2021-12-01",
          "2022-01-01",
          "2022-02-01",
          "2022-03-01",
          "2022-04-01",
          "2022-05-01",
          "2022-06-01",
          "2022-07-01",
          "2022-08-01",
          "2022-09-01",
          "2022-10-01"
         ],
         "xaxis": "x",
         "y": [
          85.51249896645811,
          96.91953975156571,
          88.74204584093764,
          90.7595591370044,
          87.77160181910055,
          75.19388057803958,
          85.65530383230997,
          82.82159120779193,
          70.70931379253255,
          78.6470977709115,
          80.61676611331009,
          78.85470389471813,
          80.63523051509236,
          98.10401862288654,
          97.78671258783191,
          95.07288134283971,
          91.82000927787229,
          87.17111140457862,
          70.72522440442708,
          87.14723360573569,
          88.14944304414993,
          102.18439634881452,
          91.7042026530022,
          103.5429274456341,
          95.87824426521948,
          122.72235510890603,
          121.68846993518252,
          118.09923515411263,
          120.51872314303253,
          123.49154961890439,
          126.01148436235378,
          130,
          122.18379571514023,
          119.08788885533072,
          115.02893783569971,
          124.74372159373652,
          128.5276982324479,
          130,
          130,
          130,
          130,
          130,
          130,
          130,
          130,
          130,
          123.10812804248414,
          130,
          130,
          125.94508022069512,
          130,
          125.77620870238079,
          127.47193267928023,
          126.21867115222875,
          123.99671391795437,
          127.57193535672053,
          118.204776212184,
          112.32878465910545,
          120.33021474438368,
          118.4146640587166,
          115.2502848745618,
          116.03355258295765,
          110.47980646461932,
          109.84375946224188,
          111.6830850552619,
          105.98153578927958,
          108.28633928623933,
          112.54186641192472,
          103.95012549218265,
          98.01541951660498,
          105.50231682431595,
          104.98109292909012,
          104.44435863773263,
          104.05095624836258,
          106.41378786810756,
          108.2179432673731,
          117.5592063153403,
          109.7475500134282,
          108.56751663317472,
          115.88908721610143,
          117.45000050581179,
          119.00883923363395,
          113.8480174909886,
          108.82867642769644,
          114.9268074160778,
          109.4806677129405,
          110.05076310080304,
          116.82254838437052,
          106.42978711531487,
          95.97058252516942,
          102.72967162746926,
          99.70082995560702,
          100.70744434296938,
          101.13293465737641,
          102.61097734710319,
          95.6604678738397,
          97.99924090440818,
          101.33167325285552,
          98.34744236311239,
          104.5714748609386,
          98.38296437802,
          96.98752933348918,
          102.93784090295404,
          97.62268903783006,
          105.82092643198976,
          103.13156901848758,
          100.16690895385776,
          100.04500691897411,
          103.70475835997793,
          99.494483441365,
          106.08242437268282,
          102.4270020754312,
          102.22076767387935,
          101.11154777109886,
          106.07226258143159,
          98.21354577413015,
          106.86493239926821,
          110.6145512281685,
          103.79315834158766,
          105.64041888145232,
          105.85622877978537,
          107.03236794283157,
          92.49808596740675,
          84.38316419634768,
          88.09285544992494,
          99.14917204849807,
          102.4188771144606,
          96.25218201624864,
          107.81601449338783,
          100.14403954777674,
          101.0518836862718,
          99.79478982157515,
          103.46383594941946,
          103.36001477212704,
          105.81228178270692,
          111.07625153457919,
          110.87495016160365,
          103.40549415209628,
          106.68028164849693,
          102.26300363832368,
          102.05475988825543,
          106.60759493670886,
          108.41474638813129,
          98.67846239479144,
          101.07147981532904,
          103.25091013644646,
          100.75845974329056,
          99.75475985933076,
          94.28514400740633,
          99.79459781613843,
          91.7726518011457,
          100.52392342461206,
          100.6268326887935,
          102.74238321208159
         ],
         "yaxis": "y"
        },
        {
         "hovertemplate": "Country=India<br>Date=%{x}<br>Score=%{y}<extra></extra>",
         "legendgroup": "India",
         "line": {
          "color": "#EF553B",
          "dash": "solid"
         },
         "marker": {
          "symbol": "circle"
         },
         "mode": "lines",
         "name": "India",
         "orientation": "v",
         "showlegend": true,
         "type": "scatter",
         "x": [
          "2010-01-01",
          "2010-02-01",
          "2010-03-01",
          "2010-04-01",
          "2010-05-01",
          "2010-06-01",
          "2010-07-01",
          "2010-08-01",
          "2010-09-01",
          "2010-10-01",
          "2010-11-01",
          "2010-12-01",
          "2011-01-01",
          "2011-02-01",
          "2011-03-01",
          "2011-04-01",
          "2011-05-01",
          "2011-06-01",
          "2011-07-01",
          "2011-08-01",
          "2011-09-01",
          "2011-10-01",
          "2011-11-01",
          "2011-12-01",
          "2012-01-01",
          "2012-02-01",
          "2012-03-01",
          "2012-04-01",
          "2012-05-01",
          "2012-06-01",
          "2012-07-01",
          "2012-08-01",
          "2012-09-01",
          "2012-10-01",
          "2012-11-01",
          "2012-12-01",
          "2013-01-01",
          "2013-02-01",
          "2013-03-01",
          "2013-04-01",
          "2013-05-01",
          "2013-06-01",
          "2013-07-01",
          "2013-08-01",
          "2013-09-01",
          "2013-10-01",
          "2013-11-01",
          "2013-12-01",
          "2014-01-01",
          "2014-02-01",
          "2014-03-01",
          "2014-04-01",
          "2014-05-01",
          "2014-06-01",
          "2014-07-01",
          "2014-08-01",
          "2014-09-01",
          "2014-10-01",
          "2014-11-01",
          "2014-12-01",
          "2015-01-01",
          "2015-02-01",
          "2015-03-01",
          "2015-04-01",
          "2015-05-01",
          "2015-06-01",
          "2015-07-01",
          "2015-08-01",
          "2015-09-01",
          "2015-10-01",
          "2015-11-01",
          "2015-12-01",
          "2016-01-01",
          "2016-02-01",
          "2016-03-01",
          "2016-04-01",
          "2016-05-01",
          "2016-06-01",
          "2016-07-01",
          "2016-08-01",
          "2016-09-01",
          "2016-10-01",
          "2016-11-01",
          "2016-12-01",
          "2017-01-01",
          "2017-02-01",
          "2017-03-01",
          "2017-04-01",
          "2017-05-01",
          "2017-06-01",
          "2017-07-01",
          "2017-08-01",
          "2017-09-01",
          "2017-10-01",
          "2017-11-01",
          "2017-12-01",
          "2018-01-01",
          "2018-02-01",
          "2018-03-01",
          "2018-04-01",
          "2018-05-01",
          "2018-06-01",
          "2018-07-01",
          "2018-08-01",
          "2018-09-01",
          "2018-10-01",
          "2018-11-01",
          "2018-12-01",
          "2019-01-01",
          "2019-02-01",
          "2019-03-01",
          "2019-04-01",
          "2019-05-01",
          "2019-06-01",
          "2019-07-01",
          "2019-08-01",
          "2019-09-01",
          "2019-10-01",
          "2019-11-01",
          "2019-12-01",
          "2020-01-01",
          "2020-02-01",
          "2020-03-01",
          "2020-04-01",
          "2020-05-01",
          "2020-06-01",
          "2020-07-01",
          "2020-08-01",
          "2020-09-01",
          "2020-10-01",
          "2020-11-01",
          "2020-12-01",
          "2021-01-01",
          "2021-02-01",
          "2021-03-01",
          "2021-04-01",
          "2021-05-01",
          "2021-06-01",
          "2021-07-01",
          "2021-08-01",
          "2021-09-01",
          "2021-10-01",
          "2021-11-01",
          "2021-12-01",
          "2022-01-01",
          "2022-02-01",
          "2022-03-01",
          "2022-04-01",
          "2022-05-01",
          "2022-06-01",
          "2022-07-01",
          "2022-08-01",
          "2022-09-01",
          "2022-10-01"
         ],
         "xaxis": "x",
         "y": [
          80.6687402799378,
          80.94572649274797,
          82.73050195227154,
          81.69936729085447,
          80.50854740641539,
          79.7257254363459,
          81.52709359605912,
          81.86283554879803,
          78.89310298487405,
          77.22804050227656,
          75.84838984155212,
          79.19923315145259,
          102.97222571320849,
          106.04450152461845,
          103.75927973463908,
          104.40315904657689,
          103.14486170881293,
          107.37816335505538,
          110.42366292909297,
          109.4245808257973,
          112.18018673457014,
          104.57504169432795,
          113.66157438941325,
          112.41929589474967,
          110.0121926437716,
          112.74060718288584,
          109.23647519031312,
          111.67604844408706,
          108.10618678149245,
          109.25100094397969,
          115.35873160716322,
          118.41920727978409,
          118.48243319234248,
          109.26269304901555,
          105.56730034312848,
          110.16235058951628,
          111.57143553022553,
          117.74969039119982,
          111.44688939720996,
          110.39767021490259,
          108.69146889031431,
          114.29532135651839,
          123.8046235581295,
          121.46312258637506,
          112.70845653459492,
          115.54388060639877,
          113.1258773982218,
          123.41526770829296,
          124.89325691425934,
          129.64298497460226,
          125.6433408577878,
          121.86658133269829,
          117.79748439722061,
          125.21245218000759,
          124.90258334536009,
          130,
          125.39769166308703,
          115.92994161801501,
          120.62414916876367,
          120.36629588884814,
          117.64707855594989,
          123.28320137807664,
          119.8763239346489,
          119.85647166491579,
          120.991696654502,
          125.79517256936612,
          130,
          129.2682926829268,
          123.22840245102105,
          120.95439312254116,
          113.10231552877642,
          114.2968538106862,
          108.92543798568366,
          115.94281858257787,
          113.63626395315687,
          110.73501597860823,
          114.0659210285061,
          117.03104713972014,
          122.92135247701859,
          122.47287174735784,
          122.23976396293804,
          124.60133758027018,
          119.78224946560411,
          124.20712152216657,
          124.14897035920004,
          120.40279697059958,
          118.54277764896824,
          119.03750698687662,
          120.44662983738723,
          130,
          128.54240591274294,
          124.14795136590718,
          120.04089750538655,
          120.03704819811037,
          120.4272815997129,
          122.4424273567755,
          115.99460590282956,
          116.00768530690667,
          119.60478462513764,
          120.15997495757615,
          123.38998211091234,
          124.36973274504382,
          125.42502153758605,
          127.19916980072097,
          130,
          129.1992279891767,
          125.67025901408503,
          126.34470155661728,
          122.57512857727123,
          122.49796233537815,
          120.54620750090105,
          118.0346477594216,
          122.55925741753688,
          123.03736359579042,
          120.14698906245269,
          116.86884608094492,
          119.58271448001501,
          111.73341972539046,
          110.9214109608908,
          110.29467176732808,
          106.88571591319042,
          104.33523834631065,
          93.20631584855184,
          81.44802637917263,
          87.0977423498347,
          92.86739821556763,
          98.26445870779807,
          101.42617969864203,
          101.73500407800103,
          102.85851804238646,
          98.02614267093402,
          105.39838908598139,
          101.24358850285493,
          97.35589492093828,
          100.13815007618462,
          94.11042049492065,
          88.87733209093633,
          98.84258573164587,
          104.6056846599213,
          102.82817032206493,
          100.86784721205913,
          100.4534833178234,
          103.75036368926389,
          104.49015944736499,
          103.63232943430415,
          102.87840841453912,
          105.06684273695728,
          105.81260102457088,
          106.06116485574059,
          109.14297333017046,
          108.29603985476652,
          106.68474998457215,
          107.34497543196696,
          106.22563708755207
         ],
         "yaxis": "y"
        },
        {
         "hovertemplate": "Country=United States<br>Date=%{x}<br>Score=%{y}<extra></extra>",
         "legendgroup": "United States",
         "line": {
          "color": "#00cc96",
          "dash": "solid"
         },
         "marker": {
          "symbol": "circle"
         },
         "mode": "lines",
         "name": "United States",
         "orientation": "v",
         "showlegend": true,
         "type": "scatter",
         "x": [
          "2010-01-01",
          "2010-02-01",
          "2010-03-01",
          "2010-04-01",
          "2010-05-01",
          "2010-06-01",
          "2010-07-01",
          "2010-08-01",
          "2010-09-01",
          "2010-10-01",
          "2010-11-01",
          "2010-12-01",
          "2011-01-01",
          "2011-02-01",
          "2011-03-01",
          "2011-04-01",
          "2011-05-01",
          "2011-06-01",
          "2011-07-01",
          "2011-08-01",
          "2011-09-01",
          "2011-10-01",
          "2011-11-01",
          "2011-12-01",
          "2012-01-01",
          "2012-02-01",
          "2012-03-01",
          "2012-04-01",
          "2012-05-01",
          "2012-06-01",
          "2012-07-01",
          "2012-08-01",
          "2012-09-01",
          "2012-10-01",
          "2012-11-01",
          "2012-12-01",
          "2013-01-01",
          "2013-02-01",
          "2013-03-01",
          "2013-04-01",
          "2013-05-01",
          "2013-06-01",
          "2013-07-01",
          "2013-08-01",
          "2013-09-01",
          "2013-10-01",
          "2013-11-01",
          "2013-12-01",
          "2014-01-01",
          "2014-02-01",
          "2014-03-01",
          "2014-04-01",
          "2014-05-01",
          "2014-06-01",
          "2014-07-01",
          "2014-08-01",
          "2014-09-01",
          "2014-10-01",
          "2014-11-01",
          "2014-12-01",
          "2015-01-01",
          "2015-02-01",
          "2015-03-01",
          "2015-04-01",
          "2015-05-01",
          "2015-06-01",
          "2015-07-01",
          "2015-08-01",
          "2015-09-01",
          "2015-10-01",
          "2015-11-01",
          "2015-12-01",
          "2016-01-01",
          "2016-02-01",
          "2016-03-01",
          "2016-04-01",
          "2016-05-01",
          "2016-06-01",
          "2016-07-01",
          "2016-08-01",
          "2016-09-01",
          "2016-10-01",
          "2016-11-01",
          "2016-12-01",
          "2017-01-01",
          "2017-02-01",
          "2017-03-01",
          "2017-04-01",
          "2017-05-01",
          "2017-06-01",
          "2017-07-01",
          "2017-08-01",
          "2017-09-01",
          "2017-10-01",
          "2017-11-01",
          "2017-12-01",
          "2018-01-01",
          "2018-02-01",
          "2018-03-01",
          "2018-04-01",
          "2018-05-01",
          "2018-06-01",
          "2018-07-01",
          "2018-08-01",
          "2018-09-01",
          "2018-10-01",
          "2018-11-01",
          "2018-12-01",
          "2019-01-01",
          "2019-02-01",
          "2019-03-01",
          "2019-04-01",
          "2019-05-01",
          "2019-06-01",
          "2019-07-01",
          "2019-08-01",
          "2019-09-01",
          "2019-10-01",
          "2019-11-01",
          "2019-12-01",
          "2020-01-01",
          "2020-02-01",
          "2020-03-01",
          "2020-04-01",
          "2020-05-01",
          "2020-06-01",
          "2020-07-01",
          "2020-08-01",
          "2020-09-01",
          "2020-10-01",
          "2020-11-01",
          "2020-12-01",
          "2021-01-01",
          "2021-02-01",
          "2021-03-01",
          "2021-04-01",
          "2021-05-01",
          "2021-06-01",
          "2021-07-01",
          "2021-08-01",
          "2021-09-01",
          "2021-10-01",
          "2021-11-01",
          "2021-12-01",
          "2022-01-01",
          "2022-02-01",
          "2022-03-01",
          "2022-04-01",
          "2022-05-01",
          "2022-06-01",
          "2022-07-01",
          "2022-08-01",
          "2022-09-01",
          "2022-10-01"
         ],
         "xaxis": "x",
         "y": [
          75.63613261159956,
          76.88890412935052,
          77.92446656738609,
          79.01332708130326,
          76.94143360542397,
          78.34367142504422,
          79.8824373127065,
          79.94996612289572,
          78.13628912901635,
          76.03916920341585,
          74.81260458403284,
          76.38473210184166,
          81.12110879764896,
          82.87365727721175,
          83.34123201951854,
          83.60116873630386,
          84.29764390098418,
          85.82185393000749,
          84.60090455008574,
          85.15132358751481,
          81.7135336146743,
          80.8852330591461,
          80.41797359398936,
          81.91521605156545,
          82.41390164293388,
          83.71103042443971,
          85.15484240201793,
          85.74055799766754,
          86.5136612021858,
          87.23557745666022,
          87.799319702351,
          87.81132852572048,
          86.10157273410795,
          81.33245512278563,
          79.26689073215127,
          80.21362308150586,
          83.55519380164438,
          86.0057247595852,
          86.33473855986945,
          87.6342927571332,
          87.85100048526924,
          90.25016178074056,
          91.39768786645791,
          92.46877897147843,
          86.9364225725652,
          87.83290582972165,
          84.02942171119378,
          88.36800864631181,
          89.9773911710607,
          89.73913337748793,
          93.40043215085284,
          92.69895955689017,
          92.603673396604,
          94.71351891149669,
          95.36442503170227,
          92.475506602568,
          89.62663449643708,
          87.54714647869906,
          83.19107843748054,
          86.77263354024264,
          86.69569985448257,
          89.93818900146562,
          89.74699651933082,
          90.43266071255427,
          88.29322851061983,
          91.79081629863704,
          93.47060409776071,
          90.1157087995212,
          88.47292428854693,
          86.32835569054248,
          83.50950058282314,
          85.65573770491804,
          95.37566792089754,
          101.22326361085987,
          102.21876193894208,
          101.46485851525338,
          102.51840598340539,
          105.01905002318878,
          107.67869780608635,
          106.76879135695151,
          102.08185053380782,
          101.40931299706368,
          97.74152065584312,
          101.28832452172668,
          101.10946391851178,
          104.9407114624506,
          108.50473900975379,
          108.29330166783612,
          108.15927950414908,
          113.47529014788086,
          111.05373016158636,
          110.37455249791616,
          104.4571668365206,
          106.94733496068565,
          99.61672307195562,
          96.81793225275119,
          99.14308204229131,
          98.59682698671055,
          102.91927244951543,
          103.44044083443663,
          105.84830529691578,
          106.9302657817197,
          105.93020766431172,
          105.35772671878252,
          99.52914318327745,
          97.96591942105795,
          99.30803558164823,
          94.97153700189753,
          100.18104113492015,
          101.98627942031737,
          105.98567753103399,
          105.26801999194637,
          104.59448909707066,
          106.6355372047279,
          107.76854823484992,
          104.37580627109558,
          106.75456341738803,
          99.88252939694519,
          95.37962475889881,
          98.49399872921123,
          101.4949586575027,
          100.35050112971439,
          81.05780346820809,
          70,
          83.94960541413951,
          94.79030951794077,
          95.10828100240624,
          94.26399873179152,
          92.3016212980947,
          89.30192463319378,
          83.67388207986777,
          83.42167600910008,
          84.76168114580888,
          87.9037438197215,
          91.69405411166971,
          103.09339943999572,
          104.85021398002853,
          106.3925855513308,
          104.1696364932288,
          99.42309979778756,
          97.06338322103632,
          95.71302280573906,
          92.5180450317808,
          93.585146632929,
          91.55469384074308,
          93.39250493096647,
          94.72866667877841,
          95.03523226520952,
          94.64280255555894,
          97.55234444116779,
          95.53094720189836,
          96.69115590445469,
          91.59715062330116,
          91.11137628276788
         ],
         "yaxis": "y"
        }
       ],
       "layout": {
        "autosize": true,
        "dragmode": "pan",
        "legend": {
         "title": {
          "text": "Country"
         },
         "tracegroupgap": 0
        },
        "margin": {
         "t": 60
        },
        "template": {
         "data": {
          "bar": [
           {
            "error_x": {
             "color": "#2a3f5f"
            },
            "error_y": {
             "color": "#2a3f5f"
            },
            "marker": {
             "line": {
              "color": "#E5ECF6",
              "width": 0.5
             },
             "pattern": {
              "fillmode": "overlay",
              "size": 10,
              "solidity": 0.2
             }
            },
            "type": "bar"
           }
          ],
          "barpolar": [
           {
            "marker": {
             "line": {
              "color": "#E5ECF6",
              "width": 0.5
             },
             "pattern": {
              "fillmode": "overlay",
              "size": 10,
              "solidity": 0.2
             }
            },
            "type": "barpolar"
           }
          ],
          "carpet": [
           {
            "aaxis": {
             "endlinecolor": "#2a3f5f",
             "gridcolor": "white",
             "linecolor": "white",
             "minorgridcolor": "white",
             "startlinecolor": "#2a3f5f"
            },
            "baxis": {
             "endlinecolor": "#2a3f5f",
             "gridcolor": "white",
             "linecolor": "white",
             "minorgridcolor": "white",
             "startlinecolor": "#2a3f5f"
            },
            "type": "carpet"
           }
          ],
          "choropleth": [
           {
            "colorbar": {
             "outlinewidth": 0,
             "ticks": ""
            },
            "type": "choropleth"
           }
          ],
          "contour": [
           {
            "colorbar": {
             "outlinewidth": 0,
             "ticks": ""
            },
            "colorscale": [
             [
              0,
              "#0d0887"
             ],
             [
              0.1111111111111111,
              "#46039f"
             ],
             [
              0.2222222222222222,
              "#7201a8"
             ],
             [
              0.3333333333333333,
              "#9c179e"
             ],
             [
              0.4444444444444444,
              "#bd3786"
             ],
             [
              0.5555555555555556,
              "#d8576b"
             ],
             [
              0.6666666666666666,
              "#ed7953"
             ],
             [
              0.7777777777777778,
              "#fb9f3a"
             ],
             [
              0.8888888888888888,
              "#fdca26"
             ],
             [
              1,
              "#f0f921"
             ]
            ],
            "type": "contour"
           }
          ],
          "contourcarpet": [
           {
            "colorbar": {
             "outlinewidth": 0,
             "ticks": ""
            },
            "type": "contourcarpet"
           }
          ],
          "heatmap": [
           {
            "colorbar": {
             "outlinewidth": 0,
             "ticks": ""
            },
            "colorscale": [
             [
              0,
              "#0d0887"
             ],
             [
              0.1111111111111111,
              "#46039f"
             ],
             [
              0.2222222222222222,
              "#7201a8"
             ],
             [
              0.3333333333333333,
              "#9c179e"
             ],
             [
              0.4444444444444444,
              "#bd3786"
             ],
             [
              0.5555555555555556,
              "#d8576b"
             ],
             [
              0.6666666666666666,
              "#ed7953"
             ],
             [
              0.7777777777777778,
              "#fb9f3a"
             ],
             [
              0.8888888888888888,
              "#fdca26"
             ],
             [
              1,
              "#f0f921"
             ]
            ],
            "type": "heatmap"
           }
          ],
          "heatmapgl": [
           {
            "colorbar": {
             "outlinewidth": 0,
             "ticks": ""
            },
            "colorscale": [
             [
              0,
              "#0d0887"
             ],
             [
              0.1111111111111111,
              "#46039f"
             ],
             [
              0.2222222222222222,
              "#7201a8"
             ],
             [
              0.3333333333333333,
              "#9c179e"
             ],
             [
              0.4444444444444444,
              "#bd3786"
             ],
             [
              0.5555555555555556,
              "#d8576b"
             ],
             [
              0.6666666666666666,
              "#ed7953"
             ],
             [
              0.7777777777777778,
              "#fb9f3a"
             ],
             [
              0.8888888888888888,
              "#fdca26"
             ],
             [
              1,
              "#f0f921"
             ]
            ],
            "type": "heatmapgl"
           }
          ],
          "histogram": [
           {
            "marker": {
             "pattern": {
              "fillmode": "overlay",
              "size": 10,
              "solidity": 0.2
             }
            },
            "type": "histogram"
           }
          ],
          "histogram2d": [
           {
            "colorbar": {
             "outlinewidth": 0,
             "ticks": ""
            },
            "colorscale": [
             [
              0,
              "#0d0887"
             ],
             [
              0.1111111111111111,
              "#46039f"
             ],
             [
              0.2222222222222222,
              "#7201a8"
             ],
             [
              0.3333333333333333,
              "#9c179e"
             ],
             [
              0.4444444444444444,
              "#bd3786"
             ],
             [
              0.5555555555555556,
              "#d8576b"
             ],
             [
              0.6666666666666666,
              "#ed7953"
             ],
             [
              0.7777777777777778,
              "#fb9f3a"
             ],
             [
              0.8888888888888888,
              "#fdca26"
             ],
             [
              1,
              "#f0f921"
             ]
            ],
            "type": "histogram2d"
           }
          ],
          "histogram2dcontour": [
           {
            "colorbar": {
             "outlinewidth": 0,
             "ticks": ""
            },
            "colorscale": [
             [
              0,
              "#0d0887"
             ],
             [
              0.1111111111111111,
              "#46039f"
             ],
             [
              0.2222222222222222,
              "#7201a8"
             ],
             [
              0.3333333333333333,
              "#9c179e"
             ],
             [
              0.4444444444444444,
              "#bd3786"
             ],
             [
              0.5555555555555556,
              "#d8576b"
             ],
             [
              0.6666666666666666,
              "#ed7953"
             ],
             [
              0.7777777777777778,
              "#fb9f3a"
             ],
             [
              0.8888888888888888,
              "#fdca26"
             ],
             [
              1,
              "#f0f921"
             ]
            ],
            "type": "histogram2dcontour"
           }
          ],
          "mesh3d": [
           {
            "colorbar": {
             "outlinewidth": 0,
             "ticks": ""
            },
            "type": "mesh3d"
           }
          ],
          "parcoords": [
           {
            "line": {
             "colorbar": {
              "outlinewidth": 0,
              "ticks": ""
             }
            },
            "type": "parcoords"
           }
          ],
          "pie": [
           {
            "automargin": true,
            "type": "pie"
           }
          ],
          "scatter": [
           {
            "fillpattern": {
             "fillmode": "overlay",
             "size": 10,
             "solidity": 0.2
            },
            "type": "scatter"
           }
          ],
          "scatter3d": [
           {
            "line": {
             "colorbar": {
              "outlinewidth": 0,
              "ticks": ""
             }
            },
            "marker": {
             "colorbar": {
              "outlinewidth": 0,
              "ticks": ""
             }
            },
            "type": "scatter3d"
           }
          ],
          "scattercarpet": [
           {
            "marker": {
             "colorbar": {
              "outlinewidth": 0,
              "ticks": ""
             }
            },
            "type": "scattercarpet"
           }
          ],
          "scattergeo": [
           {
            "marker": {
             "colorbar": {
              "outlinewidth": 0,
              "ticks": ""
             }
            },
            "type": "scattergeo"
           }
          ],
          "scattergl": [
           {
            "marker": {
             "colorbar": {
              "outlinewidth": 0,
              "ticks": ""
             }
            },
            "type": "scattergl"
           }
          ],
          "scattermapbox": [
           {
            "marker": {
             "colorbar": {
              "outlinewidth": 0,
              "ticks": ""
             }
            },
            "type": "scattermapbox"
           }
          ],
          "scatterpolar": [
           {
            "marker": {
             "colorbar": {
              "outlinewidth": 0,
              "ticks": ""
             }
            },
            "type": "scatterpolar"
           }
          ],
          "scatterpolargl": [
           {
            "marker": {
             "colorbar": {
              "outlinewidth": 0,
              "ticks": ""
             }
            },
            "type": "scatterpolargl"
           }
          ],
          "scatterternary": [
           {
            "marker": {
             "colorbar": {
              "outlinewidth": 0,
              "ticks": ""
             }
            },
            "type": "scatterternary"
           }
          ],
          "surface": [
           {
            "colorbar": {
             "outlinewidth": 0,
             "ticks": ""
            },
            "colorscale": [
             [
              0,
              "#0d0887"
             ],
             [
              0.1111111111111111,
              "#46039f"
             ],
             [
              0.2222222222222222,
              "#7201a8"
             ],
             [
              0.3333333333333333,
              "#9c179e"
             ],
             [
              0.4444444444444444,
              "#bd3786"
             ],
             [
              0.5555555555555556,
              "#d8576b"
             ],
             [
              0.6666666666666666,
              "#ed7953"
             ],
             [
              0.7777777777777778,
              "#fb9f3a"
             ],
             [
              0.8888888888888888,
              "#fdca26"
             ],
             [
              1,
              "#f0f921"
             ]
            ],
            "type": "surface"
           }
          ],
          "table": [
           {
            "cells": {
             "fill": {
              "color": "#EBF0F8"
             },
             "line": {
              "color": "white"
             }
            },
            "header": {
             "fill": {
              "color": "#C8D4E3"
             },
             "line": {
              "color": "white"
             }
            },
            "type": "table"
           }
          ]
         },
         "layout": {
          "annotationdefaults": {
           "arrowcolor": "#2a3f5f",
           "arrowhead": 0,
           "arrowwidth": 1
          },
          "autotypenumbers": "strict",
          "coloraxis": {
           "colorbar": {
            "outlinewidth": 0,
            "ticks": ""
           }
          },
          "colorscale": {
           "diverging": [
            [
             0,
             "#8e0152"
            ],
            [
             0.1,
             "#c51b7d"
            ],
            [
             0.2,
             "#de77ae"
            ],
            [
             0.3,
             "#f1b6da"
            ],
            [
             0.4,
             "#fde0ef"
            ],
            [
             0.5,
             "#f7f7f7"
            ],
            [
             0.6,
             "#e6f5d0"
            ],
            [
             0.7,
             "#b8e186"
            ],
            [
             0.8,
             "#7fbc41"
            ],
            [
             0.9,
             "#4d9221"
            ],
            [
             1,
             "#276419"
            ]
           ],
           "sequential": [
            [
             0,
             "#0d0887"
            ],
            [
             0.1111111111111111,
             "#46039f"
            ],
            [
             0.2222222222222222,
             "#7201a8"
            ],
            [
             0.3333333333333333,
             "#9c179e"
            ],
            [
             0.4444444444444444,
             "#bd3786"
            ],
            [
             0.5555555555555556,
             "#d8576b"
            ],
            [
             0.6666666666666666,
             "#ed7953"
            ],
            [
             0.7777777777777778,
             "#fb9f3a"
            ],
            [
             0.8888888888888888,
             "#fdca26"
            ],
            [
             1,
             "#f0f921"
            ]
           ],
           "sequentialminus": [
            [
             0,
             "#0d0887"
            ],
            [
             0.1111111111111111,
             "#46039f"
            ],
            [
             0.2222222222222222,
             "#7201a8"
            ],
            [
             0.3333333333333333,
             "#9c179e"
            ],
            [
             0.4444444444444444,
             "#bd3786"
            ],
            [
             0.5555555555555556,
             "#d8576b"
            ],
            [
             0.6666666666666666,
             "#ed7953"
            ],
            [
             0.7777777777777778,
             "#fb9f3a"
            ],
            [
             0.8888888888888888,
             "#fdca26"
            ],
            [
             1,
             "#f0f921"
            ]
           ]
          },
          "colorway": [
           "#636efa",
           "#EF553B",
           "#00cc96",
           "#ab63fa",
           "#FFA15A",
           "#19d3f3",
           "#FF6692",
           "#B6E880",
           "#FF97FF",
           "#FECB52"
          ],
          "font": {
           "color": "#2a3f5f"
          },
          "geo": {
           "bgcolor": "white",
           "lakecolor": "white",
           "landcolor": "#E5ECF6",
           "showlakes": true,
           "showland": true,
           "subunitcolor": "white"
          },
          "hoverlabel": {
           "align": "left"
          },
          "hovermode": "closest",
          "mapbox": {
           "style": "light"
          },
          "paper_bgcolor": "white",
          "plot_bgcolor": "#E5ECF6",
          "polar": {
           "angularaxis": {
            "gridcolor": "white",
            "linecolor": "white",
            "ticks": ""
           },
           "bgcolor": "#E5ECF6",
           "radialaxis": {
            "gridcolor": "white",
            "linecolor": "white",
            "ticks": ""
           }
          },
          "scene": {
           "xaxis": {
            "backgroundcolor": "#E5ECF6",
            "gridcolor": "white",
            "gridwidth": 2,
            "linecolor": "white",
            "showbackground": true,
            "ticks": "",
            "zerolinecolor": "white"
           },
           "yaxis": {
            "backgroundcolor": "#E5ECF6",
            "gridcolor": "white",
            "gridwidth": 2,
            "linecolor": "white",
            "showbackground": true,
            "ticks": "",
            "zerolinecolor": "white"
           },
           "zaxis": {
            "backgroundcolor": "#E5ECF6",
            "gridcolor": "white",
            "gridwidth": 2,
            "linecolor": "white",
            "showbackground": true,
            "ticks": "",
            "zerolinecolor": "white"
           }
          },
          "shapedefaults": {
           "line": {
            "color": "#2a3f5f"
           }
          },
          "ternary": {
           "aaxis": {
            "gridcolor": "white",
            "linecolor": "white",
            "ticks": ""
           },
           "baxis": {
            "gridcolor": "white",
            "linecolor": "white",
            "ticks": ""
           },
           "bgcolor": "#E5ECF6",
           "caxis": {
            "gridcolor": "white",
            "linecolor": "white",
            "ticks": ""
           }
          },
          "title": {
           "x": 0.05
          },
          "xaxis": {
           "automargin": true,
           "gridcolor": "white",
           "linecolor": "white",
           "ticks": "",
           "title": {
            "standoff": 15
           },
           "zerolinecolor": "white",
           "zerolinewidth": 2
          },
          "yaxis": {
           "automargin": true,
           "gridcolor": "white",
           "linecolor": "white",
           "ticks": "",
           "title": {
            "standoff": 15
           },
           "zerolinecolor": "white",
           "zerolinewidth": 2
          }
         }
        },
        "xaxis": {
         "anchor": "y",
         "autorange": true,
         "domain": [
          0,
          1
         ],
         "range": [
          "2010-01-01",
          "2022-10-01"
         ],
         "title": {
          "text": "Date"
         },
         "type": "date"
        },
        "yaxis": {
         "anchor": "x",
         "autorange": true,
         "domain": [
          0,
          1
         ],
         "range": [
          66.66666666666667,
          133.33333333333334
         ],
         "title": {
          "text": "Score"
         },
         "type": "linear"
        }
       }
      },
      "image/png": "[encoded data removed]",
      "text/html": [
       "<div>                            <div id=\"90f94720-e712-4ccd-80b7-e6f1b2295195\" class=\"plotly-graph-div\" style=\"height:525px; width:100%;\"></div>            <script type=\"text/javascript\">                require([\"plotly\"], function(Plotly) {                    window.PLOTLYENV=window.PLOTLYENV || {};                                    if (document.getElementById(\"90f94720-e712-4ccd-80b7-e6f1b2295195\")) {                    Plotly.newPlot(                        \"90f94720-e712-4ccd-80b7-e6f1b2295195\",                        [{\"hovertemplate\":\"Country=Afghanistan<br>Date=%{x}<br>Score=%{y}<extra></extra>\",\"legendgroup\":\"Afghanistan\",\"line\":{\"color\":\"#636efa\",\"dash\":\"solid\"},\"marker\":{\"symbol\":\"circle\"},\"mode\":\"lines\",\"name\":\"Afghanistan\",\"orientation\":\"v\",\"showlegend\":true,\"x\":[\"2010-01-01\",\"2010-02-01\",\"2010-03-01\",\"2010-04-01\",\"2010-05-01\",\"2010-06-01\",\"2010-07-01\",\"2010-08-01\",\"2010-09-01\",\"2010-10-01\",\"2010-11-01\",\"2010-12-01\",\"2011-01-01\",\"2011-02-01\",\"2011-03-01\",\"2011-04-01\",\"2011-05-01\",\"2011-06-01\",\"2011-07-01\",\"2011-08-01\",\"2011-09-01\",\"2011-10-01\",\"2011-11-01\",\"2011-12-01\",\"2012-01-01\",\"2012-02-01\",\"2012-03-01\",\"2012-04-01\",\"2012-05-01\",\"2012-06-01\",\"2012-07-01\",\"2012-08-01\",\"2012-09-01\",\"2012-10-01\",\"2012-11-01\",\"2012-12-01\",\"2013-01-01\",\"2013-02-01\",\"2013-03-01\",\"2013-04-01\",\"2013-05-01\",\"2013-06-01\",\"2013-07-01\",\"2013-08-01\",\"2013-09-01\",\"2013-10-01\",\"2013-11-01\",\"2013-12-01\",\"2014-01-01\",\"2014-02-01\",\"2014-03-01\",\"2014-04-01\",\"2014-05-01\",\"2014-06-01\",\"2014-07-01\",\"2014-08-01\",\"2014-09-01\",\"2014-10-01\",\"2014-11-01\",\"2014-12-01\",\"2015-01-01\",\"2015-02-01\",\"2015-03-01\",\"2015-04-01\",\"2015-05-01\",\"2015-06-01\",\"2015-07-01\",\"2015-08-01\",\"2015-09-01\",\"2015-10-01\",\"2015-11-01\",\"2015-12-01\",\"2016-01-01\",\"2016-02-01\",\"2016-03-01\",\"2016-04-01\",\"2016-05-01\",\"2016-06-01\",\"2016-07-01\",\"2016-08-01\",\"2016-09-01\",\"2016-10-01\",\"2016-11-01\",\"2016-12-01\",\"2017-01-01\",\"2017-02-01\",\"2017-03-01\",\"2017-04-01\",\"2017-05-01\",\"2017-06-01\",\"2017-07-01\",\"2017-08-01\",\"2017-09-01\",\"2017-10-01\",\"2017-11-01\",\"2017-12-01\",\"2018-01-01\",\"2018-02-01\",\"2018-03-01\",\"2018-04-01\",\"2018-05-01\",\"2018-06-01\",\"2018-07-01\",\"2018-08-01\",\"2018-09-01\",\"2018-10-01\",\"2018-11-01\",\"2018-12-01\",\"2019-01-01\",\"2019-02-01\",\"2019-03-01\",\"2019-04-01\",\"2019-05-01\",\"2019-06-01\",\"2019-07-01\",\"2019-08-01\",\"2019-09-01\",\"2019-10-01\",\"2019-11-01\",\"2019-12-01\",\"2020-01-01\",\"2020-02-01\",\"2020-03-01\",\"2020-04-01\",\"2020-05-01\",\"2020-06-01\",\"2020-07-01\",\"2020-08-01\",\"2020-09-01\",\"2020-10-01\",\"2020-11-01\",\"2020-12-01\",\"2021-01-01\",\"2021-02-01\",\"2021-03-01\",\"2021-04-01\",\"2021-05-01\",\"2021-06-01\",\"2021-07-01\",\"2021-08-01\",\"2021-09-01\",\"2021-10-01\",\"2021-11-01\",\"2021-12-01\",\"2022-01-01\",\"2022-02-01\",\"2022-03-01\",\"2022-04-01\",\"2022-05-01\",\"2022-06-01\",\"2022-07-01\",\"2022-08-01\",\"2022-09-01\",\"2022-10-01\"],\"xaxis\":\"x\",\"y\":[85.51249896645811,96.91953975156571,88.74204584093764,90.7595591370044,87.77160181910055,75.19388057803958,85.65530383230997,82.82159120779193,70.70931379253255,78.6470977709115,80.61676611331009,78.85470389471813,80.63523051509236,98.10401862288654,97.78671258783191,95.07288134283971,91.82000927787229,87.17111140457862,70.72522440442708,87.14723360573569,88.14944304414993,102.18439634881452,91.7042026530022,103.5429274456341,95.87824426521948,122.72235510890603,121.68846993518252,118.09923515411263,120.51872314303253,123.49154961890439,126.01148436235378,130.0,122.18379571514023,119.08788885533072,115.02893783569971,124.74372159373652,128.5276982324479,130.0,130.0,130.0,130.0,130.0,130.0,130.0,130.0,130.0,123.10812804248414,130.0,130.0,125.94508022069512,130.0,125.77620870238079,127.47193267928023,126.21867115222875,123.99671391795437,127.57193535672053,118.204776212184,112.32878465910545,120.33021474438368,118.4146640587166,115.2502848745618,116.03355258295765,110.47980646461932,109.84375946224188,111.6830850552619,105.98153578927958,108.28633928623933,112.54186641192472,103.95012549218265,98.01541951660498,105.50231682431595,104.98109292909012,104.44435863773263,104.05095624836258,106.41378786810756,108.2179432673731,117.5592063153403,109.7475500134282,108.56751663317472,115.88908721610143,117.45000050581179,119.00883923363395,113.8480174909886,108.82867642769644,114.9268074160778,109.4806677129405,110.05076310080304,116.82254838437052,106.42978711531487,95.97058252516942,102.72967162746926,99.70082995560702,100.70744434296938,101.13293465737641,102.61097734710319,95.6604678738397,97.99924090440818,101.33167325285552,98.34744236311239,104.5714748609386,98.38296437802,96.98752933348918,102.93784090295404,97.62268903783006,105.82092643198976,103.13156901848758,100.16690895385776,100.04500691897411,103.70475835997793,99.494483441365,106.08242437268282,102.4270020754312,102.22076767387935,101.11154777109886,106.07226258143159,98.21354577413015,106.86493239926821,110.6145512281685,103.79315834158766,105.64041888145232,105.85622877978537,107.03236794283157,92.49808596740675,84.38316419634768,88.09285544992494,99.14917204849807,102.4188771144606,96.25218201624864,107.81601449338783,100.14403954777674,101.0518836862718,99.79478982157515,103.46383594941946,103.36001477212704,105.81228178270692,111.07625153457919,110.87495016160365,103.40549415209628,106.68028164849693,102.26300363832368,102.05475988825543,106.60759493670886,108.41474638813129,98.67846239479144,101.07147981532904,103.25091013644646,100.75845974329056,99.75475985933076,94.28514400740633,99.79459781613843,91.7726518011457,100.52392342461206,100.6268326887935,102.74238321208159],\"yaxis\":\"y\",\"type\":\"scatter\"},{\"hovertemplate\":\"Country=India<br>Date=%{x}<br>Score=%{y}<extra></extra>\",\"legendgroup\":\"India\",\"line\":{\"color\":\"#EF553B\",\"dash\":\"solid\"},\"marker\":{\"symbol\":\"circle\"},\"mode\":\"lines\",\"name\":\"India\",\"orientation\":\"v\",\"showlegend\":true,\"x\":[\"2010-01-01\",\"2010-02-01\",\"2010-03-01\",\"2010-04-01\",\"2010-05-01\",\"2010-06-01\",\"2010-07-01\",\"2010-08-01\",\"2010-09-01\",\"2010-10-01\",\"2010-11-01\",\"2010-12-01\",\"2011-01-01\",\"2011-02-01\",\"2011-03-01\",\"2011-04-01\",\"2011-05-01\",\"2011-06-01\",\"2011-07-01\",\"2011-08-01\",\"2011-09-01\",\"2011-10-01\",\"2011-11-01\",\"2011-12-01\",\"2012-01-01\",\"2012-02-01\",\"2012-03-01\",\"2012-04-01\",\"2012-05-01\",\"2012-06-01\",\"2012-07-01\",\"2012-08-01\",\"2012-09-01\",\"2012-10-01\",\"2012-11-01\",\"2012-12-01\",\"2013-01-01\",\"2013-02-01\",\"2013-03-01\",\"2013-04-01\",\"2013-05-01\",\"2013-06-01\",\"2013-07-01\",\"2013-08-01\",\"2013-09-01\",\"2013-10-01\",\"2013-11-01\",\"2013-12-01\",\"2014-01-01\",\"2014-02-01\",\"2014-03-01\",\"2014-04-01\",\"2014-05-01\",\"2014-06-01\",\"2014-07-01\",\"2014-08-01\",\"2014-09-01\",\"2014-10-01\",\"2014-11-01\",\"2014-12-01\",\"2015-01-01\",\"2015-02-01\",\"2015-03-01\",\"2015-04-01\",\"2015-05-01\",\"2015-06-01\",\"2015-07-01\",\"2015-08-01\",\"2015-09-01\",\"2015-10-01\",\"2015-11-01\",\"2015-12-01\",\"2016-01-01\",\"2016-02-01\",\"2016-03-01\",\"2016-04-01\",\"2016-05-01\",\"2016-06-01\",\"2016-07-01\",\"2016-08-01\",\"2016-09-01\",\"2016-10-01\",\"2016-11-01\",\"2016-12-01\",\"2017-01-01\",\"2017-02-01\",\"2017-03-01\",\"2017-04-01\",\"2017-05-01\",\"2017-06-01\",\"2017-07-01\",\"2017-08-01\",\"2017-09-01\",\"2017-10-01\",\"2017-11-01\",\"2017-12-01\",\"2018-01-01\",\"2018-02-01\",\"2018-03-01\",\"2018-04-01\",\"2018-05-01\",\"2018-06-01\",\"2018-07-01\",\"2018-08-01\",\"2018-09-01\",\"2018-10-01\",\"2018-11-01\",\"2018-12-01\",\"2019-01-01\",\"2019-02-01\",\"2019-03-01\",\"2019-04-01\",\"2019-05-01\",\"2019-06-01\",\"2019-07-01\",\"2019-08-01\",\"2019-09-01\",\"2019-10-01\",\"2019-11-01\",\"2019-12-01\",\"2020-01-01\",\"2020-02-01\",\"2020-03-01\",\"2020-04-01\",\"2020-05-01\",\"2020-06-01\",\"2020-07-01\",\"2020-08-01\",\"2020-09-01\",\"2020-10-01\",\"2020-11-01\",\"2020-12-01\",\"2021-01-01\",\"2021-02-01\",\"2021-03-01\",\"2021-04-01\",\"2021-05-01\",\"2021-06-01\",\"2021-07-01\",\"2021-08-01\",\"2021-09-01\",\"2021-10-01\",\"2021-11-01\",\"2021-12-01\",\"2022-01-01\",\"2022-02-01\",\"2022-03-01\",\"2022-04-01\",\"2022-05-01\",\"2022-06-01\",\"2022-07-01\",\"2022-08-01\",\"2022-09-01\",\"2022-10-01\"],\"xaxis\":\"x\",\"y\":[80.6687402799378,80.94572649274797,82.73050195227154,81.69936729085447,80.50854740641539,79.7257254363459,81.52709359605912,81.86283554879803,78.89310298487405,77.22804050227656,75.84838984155212,79.19923315145259,102.97222571320849,106.04450152461845,103.75927973463908,104.40315904657689,103.14486170881293,107.37816335505538,110.42366292909297,109.4245808257973,112.18018673457014,104.57504169432795,113.66157438941325,112.41929589474967,110.0121926437716,112.74060718288584,109.23647519031312,111.67604844408706,108.10618678149245,109.25100094397969,115.35873160716322,118.41920727978409,118.48243319234248,109.26269304901555,105.56730034312848,110.16235058951628,111.57143553022553,117.74969039119982,111.44688939720996,110.39767021490259,108.69146889031431,114.29532135651839,123.8046235581295,121.46312258637506,112.70845653459492,115.54388060639877,113.1258773982218,123.41526770829296,124.89325691425934,129.64298497460226,125.6433408577878,121.86658133269829,117.79748439722061,125.21245218000759,124.90258334536009,130.0,125.39769166308703,115.92994161801501,120.62414916876367,120.36629588884814,117.64707855594989,123.28320137807664,119.8763239346489,119.85647166491579,120.991696654502,125.79517256936612,130.0,129.2682926829268,123.22840245102105,120.95439312254116,113.10231552877642,114.2968538106862,108.92543798568366,115.94281858257787,113.63626395315687,110.73501597860823,114.0659210285061,117.03104713972014,122.92135247701859,122.47287174735784,122.23976396293804,124.60133758027018,119.78224946560411,124.20712152216657,124.14897035920004,120.40279697059958,118.54277764896824,119.03750698687662,120.44662983738723,130.0,128.54240591274294,124.14795136590718,120.04089750538655,120.03704819811037,120.4272815997129,122.4424273567755,115.99460590282956,116.00768530690667,119.60478462513764,120.15997495757615,123.38998211091234,124.36973274504382,125.42502153758605,127.19916980072097,130.0,129.1992279891767,125.67025901408503,126.34470155661728,122.57512857727123,122.49796233537815,120.54620750090105,118.0346477594216,122.55925741753688,123.03736359579042,120.14698906245269,116.86884608094492,119.58271448001501,111.73341972539046,110.9214109608908,110.29467176732808,106.88571591319042,104.33523834631065,93.20631584855184,81.44802637917263,87.0977423498347,92.86739821556763,98.26445870779807,101.42617969864203,101.73500407800103,102.85851804238646,98.02614267093402,105.39838908598139,101.24358850285493,97.35589492093828,100.13815007618462,94.11042049492065,88.87733209093633,98.84258573164587,104.6056846599213,102.82817032206493,100.86784721205913,100.4534833178234,103.75036368926389,104.49015944736499,103.63232943430415,102.87840841453912,105.06684273695728,105.81260102457088,106.06116485574059,109.14297333017046,108.29603985476652,106.68474998457215,107.34497543196696,106.22563708755207],\"yaxis\":\"y\",\"type\":\"scatter\"},{\"hovertemplate\":\"Country=United States<br>Date=%{x}<br>Score=%{y}<extra></extra>\",\"legendgroup\":\"United States\",\"line\":{\"color\":\"#00cc96\",\"dash\":\"solid\"},\"marker\":{\"symbol\":\"circle\"},\"mode\":\"lines\",\"name\":\"United States\",\"orientation\":\"v\",\"showlegend\":true,\"x\":[\"2010-01-01\",\"2010-02-01\",\"2010-03-01\",\"2010-04-01\",\"2010-05-01\",\"2010-06-01\",\"2010-07-01\",\"2010-08-01\",\"2010-09-01\",\"2010-10-01\",\"2010-11-01\",\"2010-12-01\",\"2011-01-01\",\"2011-02-01\",\"2011-03-01\",\"2011-04-01\",\"2011-05-01\",\"2011-06-01\",\"2011-07-01\",\"2011-08-01\",\"2011-09-01\",\"2011-10-01\",\"2011-11-01\",\"2011-12-01\",\"2012-01-01\",\"2012-02-01\",\"2012-03-01\",\"2012-04-01\",\"2012-05-01\",\"2012-06-01\",\"2012-07-01\",\"2012-08-01\",\"2012-09-01\",\"2012-10-01\",\"2012-11-01\",\"2012-12-01\",\"2013-01-01\",\"2013-02-01\",\"2013-03-01\",\"2013-04-01\",\"2013-05-01\",\"2013-06-01\",\"2013-07-01\",\"2013-08-01\",\"2013-09-01\",\"2013-10-01\",\"2013-11-01\",\"2013-12-01\",\"2014-01-01\",\"2014-02-01\",\"2014-03-01\",\"2014-04-01\",\"2014-05-01\",\"2014-06-01\",\"2014-07-01\",\"2014-08-01\",\"2014-09-01\",\"2014-10-01\",\"2014-11-01\",\"2014-12-01\",\"2015-01-01\",\"2015-02-01\",\"2015-03-01\",\"2015-04-01\",\"2015-05-01\",\"2015-06-01\",\"2015-07-01\",\"2015-08-01\",\"2015-09-01\",\"2015-10-01\",\"2015-11-01\",\"2015-12-01\",\"2016-01-01\",\"2016-02-01\",\"2016-03-01\",\"2016-04-01\",\"2016-05-01\",\"2016-06-01\",\"2016-07-01\",\"2016-08-01\",\"2016-09-01\",\"2016-10-01\",\"2016-11-01\",\"2016-12-01\",\"2017-01-01\",\"2017-02-01\",\"2017-03-01\",\"2017-04-01\",\"2017-05-01\",\"2017-06-01\",\"2017-07-01\",\"2017-08-01\",\"2017-09-01\",\"2017-10-01\",\"2017-11-01\",\"2017-12-01\",\"2018-01-01\",\"2018-02-01\",\"2018-03-01\",\"2018-04-01\",\"2018-05-01\",\"2018-06-01\",\"2018-07-01\",\"2018-08-01\",\"2018-09-01\",\"2018-10-01\",\"2018-11-01\",\"2018-12-01\",\"2019-01-01\",\"2019-02-01\",\"2019-03-01\",\"2019-04-01\",\"2019-05-01\",\"2019-06-01\",\"2019-07-01\",\"2019-08-01\",\"2019-09-01\",\"2019-10-01\",\"2019-11-01\",\"2019-12-01\",\"2020-01-01\",\"2020-02-01\",\"2020-03-01\",\"2020-04-01\",\"2020-05-01\",\"2020-06-01\",\"2020-07-01\",\"2020-08-01\",\"2020-09-01\",\"2020-10-01\",\"2020-11-01\",\"2020-12-01\",\"2021-01-01\",\"2021-02-01\",\"2021-03-01\",\"2021-04-01\",\"2021-05-01\",\"2021-06-01\",\"2021-07-01\",\"2021-08-01\",\"2021-09-01\",\"2021-10-01\",\"2021-11-01\",\"2021-12-01\",\"2022-01-01\",\"2022-02-01\",\"2022-03-01\",\"2022-04-01\",\"2022-05-01\",\"2022-06-01\",\"2022-07-01\",\"2022-08-01\",\"2022-09-01\",\"2022-10-01\"],\"xaxis\":\"x\",\"y\":[75.63613261159956,76.88890412935052,77.92446656738609,79.01332708130326,76.94143360542397,78.34367142504422,79.8824373127065,79.94996612289572,78.13628912901635,76.03916920341585,74.81260458403284,76.38473210184166,81.12110879764896,82.87365727721175,83.34123201951854,83.60116873630386,84.29764390098418,85.82185393000749,84.60090455008574,85.15132358751481,81.7135336146743,80.8852330591461,80.41797359398936,81.91521605156545,82.41390164293388,83.71103042443971,85.15484240201793,85.74055799766754,86.5136612021858,87.23557745666022,87.799319702351,87.81132852572048,86.10157273410795,81.33245512278563,79.26689073215127,80.21362308150586,83.55519380164438,86.0057247595852,86.33473855986945,87.6342927571332,87.85100048526924,90.25016178074056,91.39768786645791,92.46877897147843,86.9364225725652,87.83290582972165,84.02942171119378,88.36800864631181,89.9773911710607,89.73913337748793,93.40043215085284,92.69895955689017,92.603673396604,94.71351891149669,95.36442503170227,92.475506602568,89.62663449643708,87.54714647869906,83.19107843748054,86.77263354024264,86.69569985448257,89.93818900146562,89.74699651933082,90.43266071255427,88.29322851061983,91.79081629863704,93.47060409776071,90.1157087995212,88.47292428854693,86.32835569054248,83.50950058282314,85.65573770491804,95.37566792089754,101.22326361085987,102.21876193894208,101.46485851525338,102.51840598340539,105.01905002318878,107.67869780608635,106.76879135695151,102.08185053380782,101.40931299706368,97.74152065584312,101.28832452172668,101.10946391851178,104.9407114624506,108.50473900975379,108.29330166783612,108.15927950414908,113.47529014788086,111.05373016158636,110.37455249791616,104.4571668365206,106.94733496068565,99.61672307195562,96.81793225275119,99.14308204229131,98.59682698671055,102.91927244951543,103.44044083443663,105.84830529691578,106.9302657817197,105.93020766431172,105.35772671878252,99.52914318327745,97.96591942105795,99.30803558164823,94.97153700189753,100.18104113492015,101.98627942031737,105.98567753103399,105.26801999194637,104.59448909707066,106.6355372047279,107.76854823484992,104.37580627109558,106.75456341738803,99.88252939694519,95.37962475889881,98.49399872921123,101.4949586575027,100.35050112971439,81.05780346820809,70.0,83.94960541413951,94.79030951794077,95.10828100240624,94.26399873179152,92.3016212980947,89.30192463319378,83.67388207986777,83.42167600910008,84.76168114580888,87.9037438197215,91.69405411166971,103.09339943999572,104.85021398002853,106.3925855513308,104.1696364932288,99.42309979778756,97.06338322103632,95.71302280573906,92.5180450317808,93.585146632929,91.55469384074308,93.39250493096647,94.72866667877841,95.03523226520952,94.64280255555894,97.55234444116779,95.53094720189836,96.69115590445469,91.59715062330116,91.11137628276788],\"yaxis\":\"y\",\"type\":\"scatter\"}],                        {\"template\":{\"data\":{\"histogram2dcontour\":[{\"type\":\"histogram2dcontour\",\"colorbar\":{\"outlinewidth\":0,\"ticks\":\"\"},\"colorscale\":[[0.0,\"#0d0887\"],[0.1111111111111111,\"#46039f\"],[0.2222222222222222,\"#7201a8\"],[0.3333333333333333,\"#9c179e\"],[0.4444444444444444,\"#bd3786\"],[0.5555555555555556,\"#d8576b\"],[0.6666666666666666,\"#ed7953\"],[0.7777777777777778,\"#fb9f3a\"],[0.8888888888888888,\"#fdca26\"],[1.0,\"#f0f921\"]]}],\"choropleth\":[{\"type\":\"choropleth\",\"colorbar\":{\"outlinewidth\":0,\"ticks\":\"\"}}],\"histogram2d\":[{\"type\":\"histogram2d\",\"colorbar\":{\"outlinewidth\":0,\"ticks\":\"\"},\"colorscale\":[[0.0,\"#0d0887\"],[0.1111111111111111,\"#46039f\"],[0.2222222222222222,\"#7201a8\"],[0.3333333333333333,\"#9c179e\"],[0.4444444444444444,\"#bd3786\"],[0.5555555555555556,\"#d8576b\"],[0.6666666666666666,\"#ed7953\"],[0.7777777777777778,\"#fb9f3a\"],[0.8888888888888888,\"#fdca26\"],[1.0,\"#f0f921\"]]}],\"heatmap\":[{\"type\":\"heatmap\",\"colorbar\":{\"outlinewidth\":0,\"ticks\":\"\"},\"colorscale\":[[0.0,\"#0d0887\"],[0.1111111111111111,\"#46039f\"],[0.2222222222222222,\"#7201a8\"],[0.3333333333333333,\"#9c179e\"],[0.4444444444444444,\"#bd3786\"],[0.5555555555555556,\"#d8576b\"],[0.6666666666666666,\"#ed7953\"],[0.7777777777777778,\"#fb9f3a\"],[0.8888888888888888,\"#fdca26\"],[1.0,\"#f0f921\"]]}],\"heatmapgl\":[{\"type\":\"heatmapgl\",\"colorbar\":{\"outlinewidth\":0,\"ticks\":\"\"},\"colorscale\":[[0.0,\"#0d0887\"],[0.1111111111111111,\"#46039f\"],[0.2222222222222222,\"#7201a8\"],[0.3333333333333333,\"#9c179e\"],[0.4444444444444444,\"#bd3786\"],[0.5555555555555556,\"#d8576b\"],[0.6666666666666666,\"#ed7953\"],[0.7777777777777778,\"#fb9f3a\"],[0.8888888888888888,\"#fdca26\"],[1.0,\"#f0f921\"]]}],\"contourcarpet\":[{\"type\":\"contourcarpet\",\"colorbar\":{\"outlinewidth\":0,\"ticks\":\"\"}}],\"contour\":[{\"type\":\"contour\",\"colorbar\":{\"outlinewidth\":0,\"ticks\":\"\"},\"colorscale\":[[0.0,\"#0d0887\"],[0.1111111111111111,\"#46039f\"],[0.2222222222222222,\"#7201a8\"],[0.3333333333333333,\"#9c179e\"],[0.4444444444444444,\"#bd3786\"],[0.5555555555555556,\"#d8576b\"],[0.6666666666666666,\"#ed7953\"],[0.7777777777777778,\"#fb9f3a\"],[0.8888888888888888,\"#fdca26\"],[1.0,\"#f0f921\"]]}],\"surface\":[{\"type\":\"surface\",\"colorbar\":{\"outlinewidth\":0,\"ticks\":\"\"},\"colorscale\":[[0.0,\"#0d0887\"],[0.1111111111111111,\"#46039f\"],[0.2222222222222222,\"#7201a8\"],[0.3333333333333333,\"#9c179e\"],[0.4444444444444444,\"#bd3786\"],[0.5555555555555556,\"#d8576b\"],[0.6666666666666666,\"#ed7953\"],[0.7777777777777778,\"#fb9f3a\"],[0.8888888888888888,\"#fdca26\"],[1.0,\"#f0f921\"]]}],\"mesh3d\":[{\"type\":\"mesh3d\",\"colorbar\":{\"outlinewidth\":0,\"ticks\":\"\"}}],\"scatter\":[{\"fillpattern\":{\"fillmode\":\"overlay\",\"size\":10,\"solidity\":0.2},\"type\":\"scatter\"}],\"parcoords\":[{\"type\":\"parcoords\",\"line\":{\"colorbar\":{\"outlinewidth\":0,\"ticks\":\"\"}}}],\"scatterpolargl\":[{\"type\":\"scatterpolargl\",\"marker\":{\"colorbar\":{\"outlinewidth\":0,\"ticks\":\"\"}}}],\"bar\":[{\"error_x\":{\"color\":\"#2a3f5f\"},\"error_y\":{\"color\":\"#2a3f5f\"},\"marker\":{\"line\":{\"color\":\"#E5ECF6\",\"width\":0.5},\"pattern\":{\"fillmode\":\"overlay\",\"size\":10,\"solidity\":0.2}},\"type\":\"bar\"}],\"scattergeo\":[{\"type\":\"scattergeo\",\"marker\":{\"colorbar\":{\"outlinewidth\":0,\"ticks\":\"\"}}}],\"scatterpolar\":[{\"type\":\"scatterpolar\",\"marker\":{\"colorbar\":{\"outlinewidth\":0,\"ticks\":\"\"}}}],\"histogram\":[{\"marker\":{\"pattern\":{\"fillmode\":\"overlay\",\"size\":10,\"solidity\":0.2}},\"type\":\"histogram\"}],\"scattergl\":[{\"type\":\"scattergl\",\"marker\":{\"colorbar\":{\"outlinewidth\":0,\"ticks\":\"\"}}}],\"scatter3d\":[{\"type\":\"scatter3d\",\"line\":{\"colorbar\":{\"outlinewidth\":0,\"ticks\":\"\"}},\"marker\":{\"colorbar\":{\"outlinewidth\":0,\"ticks\":\"\"}}}],\"scattermapbox\":[{\"type\":\"scattermapbox\",\"marker\":{\"colorbar\":{\"outlinewidth\":0,\"ticks\":\"\"}}}],\"scatterternary\":[{\"type\":\"scatterternary\",\"marker\":{\"colorbar\":{\"outlinewidth\":0,\"ticks\":\"\"}}}],\"scattercarpet\":[{\"type\":\"scattercarpet\",\"marker\":{\"colorbar\":{\"outlinewidth\":0,\"ticks\":\"\"}}}],\"carpet\":[{\"aaxis\":{\"endlinecolor\":\"#2a3f5f\",\"gridcolor\":\"white\",\"linecolor\":\"white\",\"minorgridcolor\":\"white\",\"startlinecolor\":\"#2a3f5f\"},\"baxis\":{\"endlinecolor\":\"#2a3f5f\",\"gridcolor\":\"white\",\"linecolor\":\"white\",\"minorgridcolor\":\"white\",\"startlinecolor\":\"#2a3f5f\"},\"type\":\"carpet\"}],\"table\":[{\"cells\":{\"fill\":{\"color\":\"#EBF0F8\"},\"line\":{\"color\":\"white\"}},\"header\":{\"fill\":{\"color\":\"#C8D4E3\"},\"line\":{\"color\":\"white\"}},\"type\":\"table\"}],\"barpolar\":[{\"marker\":{\"line\":{\"color\":\"#E5ECF6\",\"width\":0.5},\"pattern\":{\"fillmode\":\"overlay\",\"size\":10,\"solidity\":0.2}},\"type\":\"barpolar\"}],\"pie\":[{\"automargin\":true,\"type\":\"pie\"}]},\"layout\":{\"autotypenumbers\":\"strict\",\"colorway\":[\"#636efa\",\"#EF553B\",\"#00cc96\",\"#ab63fa\",\"#FFA15A\",\"#19d3f3\",\"#FF6692\",\"#B6E880\",\"#FF97FF\",\"#FECB52\"],\"font\":{\"color\":\"#2a3f5f\"},\"hovermode\":\"closest\",\"hoverlabel\":{\"align\":\"left\"},\"paper_bgcolor\":\"white\",\"plot_bgcolor\":\"#E5ECF6\",\"polar\":{\"bgcolor\":\"#E5ECF6\",\"angularaxis\":{\"gridcolor\":\"white\",\"linecolor\":\"white\",\"ticks\":\"\"},\"radialaxis\":{\"gridcolor\":\"white\",\"linecolor\":\"white\",\"ticks\":\"\"}},\"ternary\":{\"bgcolor\":\"#E5ECF6\",\"aaxis\":{\"gridcolor\":\"white\",\"linecolor\":\"white\",\"ticks\":\"\"},\"baxis\":{\"gridcolor\":\"white\",\"linecolor\":\"white\",\"ticks\":\"\"},\"caxis\":{\"gridcolor\":\"white\",\"linecolor\":\"white\",\"ticks\":\"\"}},\"coloraxis\":{\"colorbar\":{\"outlinewidth\":0,\"ticks\":\"\"}},\"colorscale\":{\"sequential\":[[0.0,\"#0d0887\"],[0.1111111111111111,\"#46039f\"],[0.2222222222222222,\"#7201a8\"],[0.3333333333333333,\"#9c179e\"],[0.4444444444444444,\"#bd3786\"],[0.5555555555555556,\"#d8576b\"],[0.6666666666666666,\"#ed7953\"],[0.7777777777777778,\"#fb9f3a\"],[0.8888888888888888,\"#fdca26\"],[1.0,\"#f0f921\"]],\"sequentialminus\":[[0.0,\"#0d0887\"],[0.1111111111111111,\"#46039f\"],[0.2222222222222222,\"#7201a8\"],[0.3333333333333333,\"#9c179e\"],[0.4444444444444444,\"#bd3786\"],[0.5555555555555556,\"#d8576b\"],[0.6666666666666666,\"#ed7953\"],[0.7777777777777778,\"#fb9f3a\"],[0.8888888888888888,\"#fdca26\"],[1.0,\"#f0f921\"]],\"diverging\":[[0,\"#8e0152\"],[0.1,\"#c51b7d\"],[0.2,\"#de77ae\"],[0.3,\"#f1b6da\"],[0.4,\"#fde0ef\"],[0.5,\"#f7f7f7\"],[0.6,\"#e6f5d0\"],[0.7,\"#b8e186\"],[0.8,\"#7fbc41\"],[0.9,\"#4d9221\"],[1,\"#276419\"]]},\"xaxis\":{\"gridcolor\":\"white\",\"linecolor\":\"white\",\"ticks\":\"\",\"title\":{\"standoff\":15},\"zerolinecolor\":\"white\",\"automargin\":true,\"zerolinewidth\":2},\"yaxis\":{\"gridcolor\":\"white\",\"linecolor\":\"white\",\"ticks\":\"\",\"title\":{\"standoff\":15},\"zerolinecolor\":\"white\",\"automargin\":true,\"zerolinewidth\":2},\"scene\":{\"xaxis\":{\"backgroundcolor\":\"#E5ECF6\",\"gridcolor\":\"white\",\"linecolor\":\"white\",\"showbackground\":true,\"ticks\":\"\",\"zerolinecolor\":\"white\",\"gridwidth\":2},\"yaxis\":{\"backgroundcolor\":\"#E5ECF6\",\"gridcolor\":\"white\",\"linecolor\":\"white\",\"showbackground\":true,\"ticks\":\"\",\"zerolinecolor\":\"white\",\"gridwidth\":2},\"zaxis\":{\"backgroundcolor\":\"#E5ECF6\",\"gridcolor\":\"white\",\"linecolor\":\"white\",\"showbackground\":true,\"ticks\":\"\",\"zerolinecolor\":\"white\",\"gridwidth\":2}},\"shapedefaults\":{\"line\":{\"color\":\"#2a3f5f\"}},\"annotationdefaults\":{\"arrowcolor\":\"#2a3f5f\",\"arrowhead\":0,\"arrowwidth\":1},\"geo\":{\"bgcolor\":\"white\",\"landcolor\":\"#E5ECF6\",\"subunitcolor\":\"white\",\"showland\":true,\"showlakes\":true,\"lakecolor\":\"white\"},\"title\":{\"x\":0.05},\"mapbox\":{\"style\":\"light\"}}},\"xaxis\":{\"anchor\":\"y\",\"domain\":[0.0,1.0],\"title\":{\"text\":\"Date\"}},\"yaxis\":{\"anchor\":\"x\",\"domain\":[0.0,1.0],\"title\":{\"text\":\"Score\"}},\"legend\":{\"title\":{\"text\":\"Country\"},\"tracegroupgap\":0},\"margin\":{\"t\":60}},                        {\"responsive\": true}                    ).then(function(){\n",
       "                            \n",
       "var gd = document.getElementById('90f94720-e712-4ccd-80b7-e6f1b2295195');\n",
       "var x = new MutationObserver(function (mutations, observer) {{\n",
       "        var display = window.getComputedStyle(gd).display;\n",
       "        if (!display || display === 'none') {{\n",
       "            console.log([gd, 'removed!']);\n",
       "            Plotly.purge(gd);\n",
       "            observer.disconnect();\n",
       "        }}\n",
       "}});\n",
       "\n",
       "// Listen for the removal of the full notebook cells\n",
       "var notebookContainer = gd.closest('#notebook-container');\n",
       "if (notebookContainer) {{\n",
       "    x.observe(notebookContainer, {childList: true});\n",
       "}}\n",
       "\n",
       "// Listen for the clearing of the current output cell\n",
       "var outputEl = gd.closest('.output');\n",
       "if (outputEl) {{\n",
       "    x.observe(outputEl, {childList: true});\n",
       "}}\n",
       "\n",
       "                        })                };                });            </script>        </div>"
      ]
     },
     "metadata": {},
     "output_type": "display_data"
    }
   ],
   "source": [
    "# pandas data frame\n",
    "country = ['Afghanistan', 'India', 'United States']\n",
    "df_filter = df_chart[df_chart['Country'].isin(country)]\n",
    "x = df_filter['Date'].values.tolist()\n",
    "y = df_filter['Score'].values.tolist()\n",
    "\n",
    "fig = px.line(df_filter, x = x, y = y,\n",
    "              labels = {'x': 'Date', 'y':'Score'}, color = 'Country')\n",
    "\n",
    "fig.show()"
   ]
  },
  {
   "cell_type": "code",
   "execution_count": 27,
   "id": "69a9e261-f27d-4b02-99fb-ec25338ba11c",
   "metadata": {},
   "outputs": [],
   "source": [
    "df_chart.to_excel('for_chart.xlsx')"
   ]
  },
  {
   "cell_type": "code",
   "execution_count": null,
   "id": "fd3b7168-02d8-4aa4-8ffb-d734c3ba614e",
   "metadata": {},
   "outputs": [],
   "source": []
  }
 ],
 "metadata": {
  "kernelspec": {
   "display_name": "Python 3 (ipykernel)",
   "language": "python",
   "name": "python3"
  },
  "language_info": {
   "codemirror_mode": {
    "name": "ipython",
    "version": 3
   },
   "file_extension": ".py",
   "mimetype": "text/x-python",
   "name": "python",
   "nbconvert_exporter": "python",
   "pygments_lexer": "ipython3",
   "version": "3.10.5"
  }
 },
 "nbformat": 4,
 "nbformat_minor": 5
}
